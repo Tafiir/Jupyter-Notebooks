{
 "cells": [
  {
   "cell_type": "markdown",
   "metadata": {},
   "source": [
    "# Untergrund"
   ]
  },
  {
   "cell_type": "code",
   "execution_count": 1,
   "metadata": {
    "collapsed": false
   },
   "outputs": [
    {
     "data": {
      "text/latex": [
       "$y_0 = 4.285714285714286 \\pm 0.28272243064375996$"
      ],
      "text/plain": [
       "<IPython.core.display.Latex object>"
      ]
     },
     "metadata": {},
     "output_type": "display_data"
    }
   ],
   "source": [
    "dataU = pd.read_csv(\"252\\\\UntergrundAgKT.dat\", sep=\"\\t\", header=None, index_col=0)\n",
    "# display(dataU)\n",
    "\n",
    "y0 = dataU.mean().values[0]\n",
    "dy0 = dataU.std().values[0]/sqrt(49)\n",
    "\n",
    "valerr(\"y_0\",y0,dy0)"
   ]
  },
  {
   "cell_type": "markdown",
   "metadata": {},
   "source": [
    "# Silber"
   ]
  },
  {
   "cell_type": "code",
   "execution_count": 2,
   "metadata": {
    "collapsed": false
   },
   "outputs": [
    {
     "data": {
      "text/html": [
       "<div>\n",
       "<table border=\"1\" class=\"dataframe\">\n",
       "  <thead>\n",
       "    <tr style=\"text-align: right;\">\n",
       "      <th></th>\n",
       "      <th>Zerfallszeit</th>\n",
       "      <th>Messung 1</th>\n",
       "      <th>Messung 2</th>\n",
       "      <th>Messung 3</th>\n",
       "      <th>Messung 4</th>\n",
       "      <th>N</th>\n",
       "      <th>$\\Delta N$</th>\n",
       "    </tr>\n",
       "  </thead>\n",
       "  <tbody>\n",
       "    <tr>\n",
       "      <th>1</th>\n",
       "      <td>5</td>\n",
       "      <td>96</td>\n",
       "      <td>120</td>\n",
       "      <td>96</td>\n",
       "      <td>94</td>\n",
       "      <td>406</td>\n",
       "      <td>20.15</td>\n",
       "    </tr>\n",
       "    <tr>\n",
       "      <th>2</th>\n",
       "      <td>15</td>\n",
       "      <td>76</td>\n",
       "      <td>68</td>\n",
       "      <td>84</td>\n",
       "      <td>80</td>\n",
       "      <td>308</td>\n",
       "      <td>17.55</td>\n",
       "    </tr>\n",
       "    <tr>\n",
       "      <th>3</th>\n",
       "      <td>25</td>\n",
       "      <td>77</td>\n",
       "      <td>56</td>\n",
       "      <td>61</td>\n",
       "      <td>68</td>\n",
       "      <td>262</td>\n",
       "      <td>16.19</td>\n",
       "    </tr>\n",
       "    <tr>\n",
       "      <th>4</th>\n",
       "      <td>35</td>\n",
       "      <td>50</td>\n",
       "      <td>54</td>\n",
       "      <td>54</td>\n",
       "      <td>57</td>\n",
       "      <td>215</td>\n",
       "      <td>14.66</td>\n",
       "    </tr>\n",
       "    <tr>\n",
       "      <th>5</th>\n",
       "      <td>45</td>\n",
       "      <td>50</td>\n",
       "      <td>38</td>\n",
       "      <td>54</td>\n",
       "      <td>40</td>\n",
       "      <td>182</td>\n",
       "      <td>13.49</td>\n",
       "    </tr>\n",
       "    <tr>\n",
       "      <th>6</th>\n",
       "      <td>55</td>\n",
       "      <td>37</td>\n",
       "      <td>47</td>\n",
       "      <td>41</td>\n",
       "      <td>31</td>\n",
       "      <td>156</td>\n",
       "      <td>12.49</td>\n",
       "    </tr>\n",
       "    <tr>\n",
       "      <th>7</th>\n",
       "      <td>65</td>\n",
       "      <td>25</td>\n",
       "      <td>27</td>\n",
       "      <td>33</td>\n",
       "      <td>34</td>\n",
       "      <td>119</td>\n",
       "      <td>10.91</td>\n",
       "    </tr>\n",
       "    <tr>\n",
       "      <th>8</th>\n",
       "      <td>75</td>\n",
       "      <td>17</td>\n",
       "      <td>23</td>\n",
       "      <td>24</td>\n",
       "      <td>28</td>\n",
       "      <td>92</td>\n",
       "      <td>9.59</td>\n",
       "    </tr>\n",
       "    <tr>\n",
       "      <th>9</th>\n",
       "      <td>85</td>\n",
       "      <td>21</td>\n",
       "      <td>24</td>\n",
       "      <td>23</td>\n",
       "      <td>23</td>\n",
       "      <td>91</td>\n",
       "      <td>9.54</td>\n",
       "    </tr>\n",
       "    <tr>\n",
       "      <th>10</th>\n",
       "      <td>95</td>\n",
       "      <td>24</td>\n",
       "      <td>32</td>\n",
       "      <td>16</td>\n",
       "      <td>20</td>\n",
       "      <td>92</td>\n",
       "      <td>9.59</td>\n",
       "    </tr>\n",
       "    <tr>\n",
       "      <th>11</th>\n",
       "      <td>105</td>\n",
       "      <td>15</td>\n",
       "      <td>17</td>\n",
       "      <td>18</td>\n",
       "      <td>23</td>\n",
       "      <td>73</td>\n",
       "      <td>8.54</td>\n",
       "    </tr>\n",
       "    <tr>\n",
       "      <th>12</th>\n",
       "      <td>115</td>\n",
       "      <td>20</td>\n",
       "      <td>17</td>\n",
       "      <td>17</td>\n",
       "      <td>16</td>\n",
       "      <td>70</td>\n",
       "      <td>8.37</td>\n",
       "    </tr>\n",
       "    <tr>\n",
       "      <th>13</th>\n",
       "      <td>125</td>\n",
       "      <td>15</td>\n",
       "      <td>13</td>\n",
       "      <td>10</td>\n",
       "      <td>23</td>\n",
       "      <td>61</td>\n",
       "      <td>7.81</td>\n",
       "    </tr>\n",
       "    <tr>\n",
       "      <th>14</th>\n",
       "      <td>135</td>\n",
       "      <td>13</td>\n",
       "      <td>18</td>\n",
       "      <td>14</td>\n",
       "      <td>19</td>\n",
       "      <td>64</td>\n",
       "      <td>8.00</td>\n",
       "    </tr>\n",
       "    <tr>\n",
       "      <th>15</th>\n",
       "      <td>145</td>\n",
       "      <td>11</td>\n",
       "      <td>14</td>\n",
       "      <td>14</td>\n",
       "      <td>10</td>\n",
       "      <td>49</td>\n",
       "      <td>7.00</td>\n",
       "    </tr>\n",
       "    <tr>\n",
       "      <th>16</th>\n",
       "      <td>155</td>\n",
       "      <td>7</td>\n",
       "      <td>11</td>\n",
       "      <td>14</td>\n",
       "      <td>18</td>\n",
       "      <td>50</td>\n",
       "      <td>7.07</td>\n",
       "    </tr>\n",
       "    <tr>\n",
       "      <th>17</th>\n",
       "      <td>165</td>\n",
       "      <td>20</td>\n",
       "      <td>13</td>\n",
       "      <td>13</td>\n",
       "      <td>13</td>\n",
       "      <td>59</td>\n",
       "      <td>7.68</td>\n",
       "    </tr>\n",
       "    <tr>\n",
       "      <th>18</th>\n",
       "      <td>175</td>\n",
       "      <td>9</td>\n",
       "      <td>12</td>\n",
       "      <td>13</td>\n",
       "      <td>15</td>\n",
       "      <td>49</td>\n",
       "      <td>7.00</td>\n",
       "    </tr>\n",
       "    <tr>\n",
       "      <th>19</th>\n",
       "      <td>185</td>\n",
       "      <td>9</td>\n",
       "      <td>10</td>\n",
       "      <td>10</td>\n",
       "      <td>17</td>\n",
       "      <td>46</td>\n",
       "      <td>6.78</td>\n",
       "    </tr>\n",
       "    <tr>\n",
       "      <th>20</th>\n",
       "      <td>195</td>\n",
       "      <td>8</td>\n",
       "      <td>15</td>\n",
       "      <td>9</td>\n",
       "      <td>5</td>\n",
       "      <td>37</td>\n",
       "      <td>6.08</td>\n",
       "    </tr>\n",
       "    <tr>\n",
       "      <th>21</th>\n",
       "      <td>205</td>\n",
       "      <td>10</td>\n",
       "      <td>9</td>\n",
       "      <td>12</td>\n",
       "      <td>11</td>\n",
       "      <td>42</td>\n",
       "      <td>6.48</td>\n",
       "    </tr>\n",
       "    <tr>\n",
       "      <th>22</th>\n",
       "      <td>215</td>\n",
       "      <td>2</td>\n",
       "      <td>9</td>\n",
       "      <td>9</td>\n",
       "      <td>15</td>\n",
       "      <td>35</td>\n",
       "      <td>5.92</td>\n",
       "    </tr>\n",
       "    <tr>\n",
       "      <th>23</th>\n",
       "      <td>225</td>\n",
       "      <td>12</td>\n",
       "      <td>6</td>\n",
       "      <td>8</td>\n",
       "      <td>9</td>\n",
       "      <td>35</td>\n",
       "      <td>5.92</td>\n",
       "    </tr>\n",
       "    <tr>\n",
       "      <th>24</th>\n",
       "      <td>235</td>\n",
       "      <td>7</td>\n",
       "      <td>11</td>\n",
       "      <td>22</td>\n",
       "      <td>13</td>\n",
       "      <td>53</td>\n",
       "      <td>7.28</td>\n",
       "    </tr>\n",
       "    <tr>\n",
       "      <th>25</th>\n",
       "      <td>245</td>\n",
       "      <td>9</td>\n",
       "      <td>10</td>\n",
       "      <td>14</td>\n",
       "      <td>9</td>\n",
       "      <td>42</td>\n",
       "      <td>6.48</td>\n",
       "    </tr>\n",
       "    <tr>\n",
       "      <th>26</th>\n",
       "      <td>255</td>\n",
       "      <td>12</td>\n",
       "      <td>7</td>\n",
       "      <td>9</td>\n",
       "      <td>8</td>\n",
       "      <td>36</td>\n",
       "      <td>6.00</td>\n",
       "    </tr>\n",
       "    <tr>\n",
       "      <th>27</th>\n",
       "      <td>265</td>\n",
       "      <td>8</td>\n",
       "      <td>9</td>\n",
       "      <td>9</td>\n",
       "      <td>12</td>\n",
       "      <td>38</td>\n",
       "      <td>6.16</td>\n",
       "    </tr>\n",
       "    <tr>\n",
       "      <th>28</th>\n",
       "      <td>275</td>\n",
       "      <td>2</td>\n",
       "      <td>12</td>\n",
       "      <td>14</td>\n",
       "      <td>9</td>\n",
       "      <td>37</td>\n",
       "      <td>6.08</td>\n",
       "    </tr>\n",
       "    <tr>\n",
       "      <th>29</th>\n",
       "      <td>285</td>\n",
       "      <td>13</td>\n",
       "      <td>3</td>\n",
       "      <td>12</td>\n",
       "      <td>6</td>\n",
       "      <td>34</td>\n",
       "      <td>5.83</td>\n",
       "    </tr>\n",
       "    <tr>\n",
       "      <th>30</th>\n",
       "      <td>295</td>\n",
       "      <td>8</td>\n",
       "      <td>9</td>\n",
       "      <td>9</td>\n",
       "      <td>8</td>\n",
       "      <td>34</td>\n",
       "      <td>5.83</td>\n",
       "    </tr>\n",
       "    <tr>\n",
       "      <th>31</th>\n",
       "      <td>305</td>\n",
       "      <td>4</td>\n",
       "      <td>4</td>\n",
       "      <td>11</td>\n",
       "      <td>3</td>\n",
       "      <td>22</td>\n",
       "      <td>4.69</td>\n",
       "    </tr>\n",
       "    <tr>\n",
       "      <th>32</th>\n",
       "      <td>315</td>\n",
       "      <td>5</td>\n",
       "      <td>6</td>\n",
       "      <td>2</td>\n",
       "      <td>7</td>\n",
       "      <td>20</td>\n",
       "      <td>4.47</td>\n",
       "    </tr>\n",
       "    <tr>\n",
       "      <th>33</th>\n",
       "      <td>325</td>\n",
       "      <td>5</td>\n",
       "      <td>7</td>\n",
       "      <td>8</td>\n",
       "      <td>18</td>\n",
       "      <td>38</td>\n",
       "      <td>6.16</td>\n",
       "    </tr>\n",
       "    <tr>\n",
       "      <th>34</th>\n",
       "      <td>335</td>\n",
       "      <td>6</td>\n",
       "      <td>8</td>\n",
       "      <td>3</td>\n",
       "      <td>7</td>\n",
       "      <td>24</td>\n",
       "      <td>4.90</td>\n",
       "    </tr>\n",
       "    <tr>\n",
       "      <th>35</th>\n",
       "      <td>345</td>\n",
       "      <td>4</td>\n",
       "      <td>10</td>\n",
       "      <td>11</td>\n",
       "      <td>6</td>\n",
       "      <td>31</td>\n",
       "      <td>5.57</td>\n",
       "    </tr>\n",
       "    <tr>\n",
       "      <th>36</th>\n",
       "      <td>355</td>\n",
       "      <td>8</td>\n",
       "      <td>7</td>\n",
       "      <td>3</td>\n",
       "      <td>7</td>\n",
       "      <td>25</td>\n",
       "      <td>5.00</td>\n",
       "    </tr>\n",
       "    <tr>\n",
       "      <th>37</th>\n",
       "      <td>365</td>\n",
       "      <td>7</td>\n",
       "      <td>7</td>\n",
       "      <td>3</td>\n",
       "      <td>7</td>\n",
       "      <td>24</td>\n",
       "      <td>4.90</td>\n",
       "    </tr>\n",
       "    <tr>\n",
       "      <th>38</th>\n",
       "      <td>375</td>\n",
       "      <td>4</td>\n",
       "      <td>5</td>\n",
       "      <td>6</td>\n",
       "      <td>4</td>\n",
       "      <td>19</td>\n",
       "      <td>4.36</td>\n",
       "    </tr>\n",
       "    <tr>\n",
       "      <th>39</th>\n",
       "      <td>385</td>\n",
       "      <td>10</td>\n",
       "      <td>6</td>\n",
       "      <td>6</td>\n",
       "      <td>9</td>\n",
       "      <td>31</td>\n",
       "      <td>5.57</td>\n",
       "    </tr>\n",
       "    <tr>\n",
       "      <th>40</th>\n",
       "      <td>395</td>\n",
       "      <td>12</td>\n",
       "      <td>6</td>\n",
       "      <td>9</td>\n",
       "      <td>7</td>\n",
       "      <td>34</td>\n",
       "      <td>5.83</td>\n",
       "    </tr>\n",
       "  </tbody>\n",
       "</table>\n",
       "</div>"
      ],
      "text/plain": [
       "    Zerfallszeit  Messung 1  Messung 2  Messung 3  Messung 4    N  $\\Delta N$\n",
       "1              5         96        120         96         94  406       20.15\n",
       "2             15         76         68         84         80  308       17.55\n",
       "3             25         77         56         61         68  262       16.19\n",
       "4             35         50         54         54         57  215       14.66\n",
       "5             45         50         38         54         40  182       13.49\n",
       "6             55         37         47         41         31  156       12.49\n",
       "7             65         25         27         33         34  119       10.91\n",
       "8             75         17         23         24         28   92        9.59\n",
       "9             85         21         24         23         23   91        9.54\n",
       "10            95         24         32         16         20   92        9.59\n",
       "11           105         15         17         18         23   73        8.54\n",
       "12           115         20         17         17         16   70        8.37\n",
       "13           125         15         13         10         23   61        7.81\n",
       "14           135         13         18         14         19   64        8.00\n",
       "15           145         11         14         14         10   49        7.00\n",
       "16           155          7         11         14         18   50        7.07\n",
       "17           165         20         13         13         13   59        7.68\n",
       "18           175          9         12         13         15   49        7.00\n",
       "19           185          9         10         10         17   46        6.78\n",
       "20           195          8         15          9          5   37        6.08\n",
       "21           205         10          9         12         11   42        6.48\n",
       "22           215          2          9          9         15   35        5.92\n",
       "23           225         12          6          8          9   35        5.92\n",
       "24           235          7         11         22         13   53        7.28\n",
       "25           245          9         10         14          9   42        6.48\n",
       "26           255         12          7          9          8   36        6.00\n",
       "27           265          8          9          9         12   38        6.16\n",
       "28           275          2         12         14          9   37        6.08\n",
       "29           285         13          3         12          6   34        5.83\n",
       "30           295          8          9          9          8   34        5.83\n",
       "31           305          4          4         11          3   22        4.69\n",
       "32           315          5          6          2          7   20        4.47\n",
       "33           325          5          7          8         18   38        6.16\n",
       "34           335          6          8          3          7   24        4.90\n",
       "35           345          4         10         11          6   31        5.57\n",
       "36           355          8          7          3          7   25        5.00\n",
       "37           365          7          7          3          7   24        4.90\n",
       "38           375          4          5          6          4   19        4.36\n",
       "39           385         10          6          6          9   31        5.57\n",
       "40           395         12          6          9          7   34        5.83"
      ]
     },
     "metadata": {},
     "output_type": "display_data"
    }
   ],
   "source": [
    "dataAg = pd.concat([pd.Series(arange(1,41)*10-5, index=range(1,41)),\n",
    "                    pd.read_csv(\"252\\\\Ag1KT.dat\", sep=\"\\t\", header=None, index_col=0),\n",
    "                    pd.read_csv(\"252\\\\Ag2KT.dat\", sep=\"\\t\", header=None, index_col=0),\n",
    "                    pd.read_csv(\"252\\\\Ag3KT.dat\", sep=\"\\t\", header=None, index_col=0),\n",
    "                    pd.read_csv(\"252\\\\Ag4KT.dat\", sep=\"\\t\", header=None, index_col=0)], axis=1)\n",
    "dataAg.columns = [\"Zerfallszeit\",\"Messung 1\",\"Messung 2\",\"Messung 3\",\"Messung 4\"]\n",
    "dataAg[\"N\"] = sum(dataAg.iloc[:,1:], axis=1)\n",
    "dataAg[\"$\\Delta N$\"] = sqrt(dataAg[\"N\"])\n",
    "display(dataAg.round(2))"
   ]
  },
  {
   "cell_type": "markdown",
   "metadata": {},
   "source": [
    "## Ohne $\\Delta y_0$"
   ]
  },
  {
   "cell_type": "code",
   "execution_count": 10,
   "metadata": {
    "collapsed": false,
    "scrolled": false
   },
   "outputs": [
    {
     "data": {
      "text/latex": [
       "$A_1 = 78.473 \\pm 21.787$"
      ],
      "text/plain": [
       "<IPython.core.display.Latex object>"
      ]
     },
     "metadata": {},
     "output_type": "display_data"
    },
    {
     "data": {
      "text/latex": [
       "$A_2 = 360.6 \\pm 23.2$"
      ],
      "text/plain": [
       "<IPython.core.display.Latex object>"
      ]
     },
     "metadata": {},
     "output_type": "display_data"
    },
    {
     "data": {
      "text/latex": [
       "$\\lambda_1 = 0.00595 \\pm 0.0011$"
      ],
      "text/plain": [
       "<IPython.core.display.Latex object>"
      ]
     },
     "metadata": {},
     "output_type": "display_data"
    },
    {
     "data": {
      "text/latex": [
       "$\\lambda_2 = 0.02947 \\pm 0.00346$"
      ],
      "text/plain": [
       "<IPython.core.display.Latex object>"
      ]
     },
     "metadata": {},
     "output_type": "display_data"
    },
    {
     "data": {
      "text/latex": [
       "$t_{1/2,1} = 116.41035 \\pm 21.6014$"
      ],
      "text/plain": [
       "<IPython.core.display.Latex object>"
      ]
     },
     "metadata": {},
     "output_type": "display_data"
    },
    {
     "data": {
      "text/latex": [
       "$t_{1/2,2} = 23.51738 \\pm 2.76103$"
      ],
      "text/plain": [
       "<IPython.core.display.Latex object>"
      ]
     },
     "metadata": {},
     "output_type": "display_data"
    },
    {
     "data": {
      "image/png": "[encoded data removed]",
      "text/plain": [
       "<matplotlib.figure.Figure at 0x1a61544e710>"
      ]
     },
     "metadata": {},
     "output_type": "display_data"
    }
   ],
   "source": [
    "from scipy.optimize import curve_fit\n",
    "\n",
    "def exp2(t, A1, A2, l1, l2):\n",
    "    return 4*y0 + A1*exp(-l1*t) + A2*exp(-l2*t)\n",
    "\n",
    "for i in range(-1,2):\n",
    "    popt, pcov = curve_fit(exp2, dataAg.iloc[:,0], dataAg.iloc[:,5], sigma=dataAg.iloc[:,6].values, p0=(70,400, 3e-3, 2e-2))\n",
    "\n",
    "figure()\n",
    "errorbar(dataAg.iloc[:,0], dataAg.iloc[:,5], yerr=dataAg.iloc[:,6].values, fmt='bs')\n",
    "plot(linspace(0,400,1000), exp2(linspace(0,400,1000), *popt), 'r')\n",
    "grid()\n",
    "show()"
   ]
  },
  {
   "cell_type": "markdown",
   "metadata": {},
   "source": [
    "## $+ \\Delta y_0$"
   ]
  },
  {
   "cell_type": "code",
   "execution_count": 3,
   "metadata": {
    "collapsed": false
   },
   "outputs": [
    {
     "data": {
      "text/latex": [
       "$A_1 = 78.473 \\pm 21.787$"
      ],
      "text/plain": [
       "<IPython.core.display.Latex object>"
      ]
     },
     "metadata": {},
     "output_type": "display_data"
    },
    {
     "data": {
      "text/latex": [
       "$A_2 = 360.6 \\pm 23.2$"
      ],
      "text/plain": [
       "<IPython.core.display.Latex object>"
      ]
     },
     "metadata": {},
     "output_type": "display_data"
    },
    {
     "data": {
      "text/latex": [
       "$\\lambda_1 = 0.00595 \\pm 0.0011$"
      ],
      "text/plain": [
       "<IPython.core.display.Latex object>"
      ]
     },
     "metadata": {},
     "output_type": "display_data"
    },
    {
     "data": {
      "text/latex": [
       "$\\lambda_2 = 0.02947 \\pm 0.00346$"
      ],
      "text/plain": [
       "<IPython.core.display.Latex object>"
      ]
     },
     "metadata": {},
     "output_type": "display_data"
    },
    {
     "data": {
      "text/latex": [
       "$t_1 = 116.41035 \\pm 21.6014$"
      ],
      "text/plain": [
       "<IPython.core.display.Latex object>"
      ]
     },
     "metadata": {},
     "output_type": "display_data"
    },
    {
     "data": {
      "text/latex": [
       "$t_2 = 23.51738 \\pm 2.76103$"
      ],
      "text/plain": [
       "<IPython.core.display.Latex object>"
      ]
     },
     "metadata": {},
     "output_type": "display_data"
    }
   ],
   "source": [
    "from scipy.optimize import curve_fit\n",
    "\n",
    "def exp2(t, A1, A2, l1, l2):\n",
    "    return 4*y0 + A1*exp(-l1*t) + A2*exp(-l2*t)\n",
    "\n",
    "popt, pcov = curve_fit(exp2, dataAg.iloc[:,0], dataAg.iloc[:,5], sigma=dataAg.iloc[:,6].values, p0=(70,400, 3e-3, 2e-2))\n",
    "\n",
    "valerr(\"A_1\", popt[0], sqrt(pcov[0][0]), 3)\n",
    "valerr(\"A_2\", popt[1], sqrt(pcov[1][1]), 1)\n",
    "valerr(\"\\lambda_1\", popt[2], sqrt(pcov[2][2]), 5)\n",
    "valerr(\"\\lambda_2\", popt[3], sqrt(pcov[3][3]), 5)\n",
    "valerr(\"t_1\", log(2)/popt[2], (log(2)/(popt[2]**2))*sqrt(pcov[2][2]), 5)\n",
    "valerr(\"t_2\", log(2)/popt[3], (log(2)/(popt[3]**2))*sqrt(pcov[3][3]), 5)\n",
    "\n",
    "figure()\n",
    "errorbar(dataAg.iloc[:,0], dataAg.iloc[:,5], yerr=dataAg.iloc[:,6].values, fmt='bs')\n",
    "plot(linspace(0,400,1000), exp2(linspace(0,400,1000), *popt), 'r')\n",
    "grid()\n",
    "show()"
   ]
  },
  {
   "cell_type": "markdown",
   "metadata": {},
   "source": [
    "## $- \\Delta y_0$"
   ]
  },
  {
   "cell_type": "code",
   "execution_count": 3,
   "metadata": {
    "collapsed": false
   },
   "outputs": [
    {
     "data": {
      "text/latex": [
       "$A_1 = 78.473 \\pm 21.787$"
      ],
      "text/plain": [
       "<IPython.core.display.Latex object>"
      ]
     },
     "metadata": {},
     "output_type": "display_data"
    },
    {
     "data": {
      "text/latex": [
       "$A_2 = 360.6 \\pm 23.2$"
      ],
      "text/plain": [
       "<IPython.core.display.Latex object>"
      ]
     },
     "metadata": {},
     "output_type": "display_data"
    },
    {
     "data": {
      "text/latex": [
       "$\\lambda_1 = 0.00595 \\pm 0.0011$"
      ],
      "text/plain": [
       "<IPython.core.display.Latex object>"
      ]
     },
     "metadata": {},
     "output_type": "display_data"
    },
    {
     "data": {
      "text/latex": [
       "$\\lambda_2 = 0.02947 \\pm 0.00346$"
      ],
      "text/plain": [
       "<IPython.core.display.Latex object>"
      ]
     },
     "metadata": {},
     "output_type": "display_data"
    },
    {
     "data": {
      "text/latex": [
       "$t_1 = 116.41035 \\pm 21.6014$"
      ],
      "text/plain": [
       "<IPython.core.display.Latex object>"
      ]
     },
     "metadata": {},
     "output_type": "display_data"
    },
    {
     "data": {
      "text/latex": [
       "$t_2 = 23.51738 \\pm 2.76103$"
      ],
      "text/plain": [
       "<IPython.core.display.Latex object>"
      ]
     },
     "metadata": {},
     "output_type": "display_data"
    }
   ],
   "source": [
    "from scipy.optimize import curve_fit\n",
    "\n",
    "def exp2(t, A1, A2, l1, l2):\n",
    "    return 4*y0 + A1*exp(-l1*t) + A2*exp(-l2*t)\n",
    "\n",
    "popt, pcov = curve_fit(exp2, dataAg.iloc[:,0], dataAg.iloc[:,5], sigma=dataAg.iloc[:,6].values, p0=(70,400, 3e-3, 2e-2))\n",
    "\n",
    "valerr(\"A_1\", popt[0], sqrt(pcov[0][0]), 3)\n",
    "valerr(\"A_2\", popt[1], sqrt(pcov[1][1]), 1)\n",
    "valerr(\"\\lambda_1\", popt[2], sqrt(pcov[2][2]), 5)\n",
    "valerr(\"\\lambda_2\", popt[3], sqrt(pcov[3][3]), 5)\n",
    "valerr(\"t_1\", log(2)/popt[2], (log(2)/(popt[2]**2))*sqrt(pcov[2][2]), 5)\n",
    "valerr(\"t_2\", log(2)/popt[3], (log(2)/(popt[3]**2))*sqrt(pcov[3][3]), 5)\n",
    "\n",
    "figure()\n",
    "errorbar(dataAg.iloc[:,0], dataAg.iloc[:,5], yerr=dataAg.iloc[:,6].values, fmt='bs')\n",
    "plot(linspace(0,400,1000), exp2(linspace(0,400,1000), *popt), 'r')\n",
    "grid()\n",
    "show()"
   ]
  },
  {
   "cell_type": "markdown",
   "metadata": {},
   "source": [
    "# Indium"
   ]
  },
  {
   "cell_type": "code",
   "execution_count": null,
   "metadata": {
    "collapsed": true
   },
   "outputs": [],
   "source": []
  }
 ],
 "metadata": {
  "kernelspec": {
   "display_name": "Python 3",
   "language": "python",
   "name": "python3"
  },
  "language_info": {
   "codemirror_mode": {
    "name": "ipython",
    "version": 3
   },
   "file_extension": ".py",
   "mimetype": "text/x-python",
   "name": "python",
   "nbconvert_exporter": "python",
   "pygments_lexer": "ipython3",
   "version": "3.5.1"
  }
 },
 "nbformat": 4,
 "nbformat_minor": 0
}
