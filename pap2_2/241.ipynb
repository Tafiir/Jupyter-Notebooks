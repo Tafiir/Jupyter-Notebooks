{
 "cells": [
  {
   "cell_type": "code",
   "execution_count": 1,
   "metadata": {
    "collapsed": true
   },
   "outputs": [],
   "source": [
    "from pap2 import *"
   ]
  },
  {
   "cell_type": "markdown",
   "metadata": {},
   "source": [
    "# Versuch 241: RCL-Glied\n",
    "## 1. Bestimmung der Zeitkonstante"
   ]
  },
  {
   "cell_type": "code",
   "execution_count": 4,
   "metadata": {
    "collapsed": false
   },
   "outputs": [
    {
     "data": {
      "text/html": [
       "<table>\n",
       "<h3>Tabelle 1: Bestimmung der Zeitkonstante eines RC-Glieds</h3>\n",
       "    <tr>\n",
       "        <th>$C \\ [nF]$</th>\n",
       "        <th>$R \\ [k \\Omega]$</th>\n",
       "        <th>$f \\ [Hz]$</th>\n",
       "        <th>$\\tau_{exp} \\ [s]$</th>\n",
       "        <th>$\\tau_{theo} \\ [s]$</th>\n",
       "    </tr>\n",
       "    <tr>\n",
       "        <td>$\\left(4.7 \\pm 0.5\\right) \\times 10^{2}$</td>\n",
       "        <td>$1.00 \\pm 0.05$</td>\n",
       "        <td>120</td>\n",
       "        <td>$0.462 \\pm 0.029$</td>\n",
       "        <td>$\\left(4.7 \\pm 0.5\\right) \\times 10^{2}$</td>\n",
       "    </tr>\n",
       "    <tr>\n",
       "        <td>$4.7 \\pm 0.5$</td>\n",
       "        <td>$10.0 \\pm 0.5$</td>\n",
       "        <td>120</td>\n",
       "        <td>$0.058 \\pm 0.007$</td>\n",
       "        <td>$47 \\pm 5$</td>\n",
       "    </tr>\n",
       "    <tr>\n",
       "        <td>$47 \\pm 5$</td>\n",
       "        <td>$1.00 \\pm 0.05$</td>\n",
       "        <td>320</td>\n",
       "        <td>$0.0491 \\pm 0.0029$</td>\n",
       "        <td>$47 \\pm 5$</td>\n",
       "    </tr>\n",
       "</table>"
      ],
      "text/plain": [
       "<IPython.core.display.HTML object>"
      ]
     },
     "metadata": {},
     "output_type": "display_data"
    }
   ],
   "source": [
    "C, R, T12, dT12 = loadtxt(\"241\\\\1.csv\", skiprows=1, delimiter=',',unpack=True)\n",
    "C = un.uarray(C, 0.1*C)\n",
    "R = un.uarray(R, 0.05*R)\n",
    "f = array([120,120,320])\n",
    "T12 = un.uarray(T12, dT12)\n",
    "\n",
    "t_theo = R*C\n",
    "t_exp = T12/log(2)\n",
    "\n",
    "a1 = Table(\"Tabelle 1: Bestimmung der Zeitkonstante eines RC-Glieds\")\n",
    "a1.field_names = [\"$C \\ [nF]$\", \"$R \\ [k \\Omega]$\", \"$f \\ [Hz]$\", \"$\\\\tau_{exp} \\ [s]$\", \"$\\\\tau_{theo} \\ [s]$\"]\n",
    "for i in range(3):\n",
    "    a1.add_row(pformat([C[i], R[i], f[i], t_exp[i], t_theo[i]]))\n",
    "    \n",
    "display_table(a1)"
   ]
  },
  {
   "cell_type": "code",
   "execution_count": null,
   "metadata": {
    "collapsed": true
   },
   "outputs": [],
   "source": []
  }
 ],
 "metadata": {
  "kernelspec": {
   "display_name": "Python 3",
   "language": "python",
   "name": "python3"
  },
  "language_info": {
   "codemirror_mode": {
    "name": "ipython",
    "version": 3
   },
   "file_extension": ".py",
   "mimetype": "text/x-python",
   "name": "python",
   "nbconvert_exporter": "python",
   "pygments_lexer": "ipython3",
   "version": "3.5.1"
  }
 },
 "nbformat": 4,
 "nbformat_minor": 0
}
