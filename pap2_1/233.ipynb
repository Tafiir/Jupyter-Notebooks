{
 "cells": [
  {
   "cell_type": "code",
   "execution_count": 32,
   "metadata": {
    "collapsed": false
   },
   "outputs": [
    {
     "data": {
      "text/latex": [
       "$x_0 = 874.69 \\pm 4.18 \\ px$"
      ],
      "text/plain": [
       "<IPython.core.display.Latex object>"
      ]
     },
     "metadata": {},
     "output_type": "display_data"
    },
    {
     "data": {
      "text/html": [
       "<div>\n",
       "<table border=\"1\" class=\"dataframe\">\n",
       "  <thead>\n",
       "    <tr style=\"text-align: right;\">\n",
       "      <th></th>\n",
       "      <th>Min rechts</th>\n",
       "      <th>Min links</th>\n",
       "      <th>Abstand rechts</th>\n",
       "      <th>Abstand links</th>\n",
       "      <th>Abstand mittel</th>\n",
       "    </tr>\n",
       "  </thead>\n",
       "  <tbody>\n",
       "    <tr>\n",
       "      <th>1</th>\n",
       "      <td>NaN</td>\n",
       "      <td>837.52</td>\n",
       "      <td>NaN</td>\n",
       "      <td>37.17375</td>\n",
       "      <td>37.17375</td>\n",
       "    </tr>\n",
       "    <tr>\n",
       "      <th>2</th>\n",
       "      <td>949.96</td>\n",
       "      <td>799.43</td>\n",
       "      <td>75.26625</td>\n",
       "      <td>75.26375</td>\n",
       "      <td>75.26500</td>\n",
       "    </tr>\n",
       "    <tr>\n",
       "      <th>3</th>\n",
       "      <td>987.44</td>\n",
       "      <td>762.56</td>\n",
       "      <td>112.74625</td>\n",
       "      <td>112.13375</td>\n",
       "      <td>112.44000</td>\n",
       "    </tr>\n",
       "    <tr>\n",
       "      <th>4</th>\n",
       "      <td>1024.92</td>\n",
       "      <td>725.70</td>\n",
       "      <td>150.22625</td>\n",
       "      <td>148.99375</td>\n",
       "      <td>149.61000</td>\n",
       "    </tr>\n",
       "    <tr>\n",
       "      <th>5</th>\n",
       "      <td>1059.94</td>\n",
       "      <td>687.61</td>\n",
       "      <td>185.24625</td>\n",
       "      <td>187.08375</td>\n",
       "      <td>186.16500</td>\n",
       "    </tr>\n",
       "  </tbody>\n",
       "</table>\n",
       "</div>"
      ],
      "text/plain": [
       "   Min rechts  Min links  Abstand rechts  Abstand links  Abstand mittel\n",
       "1         NaN     837.52             NaN       37.17375        37.17375\n",
       "2      949.96     799.43        75.26625       75.26375        75.26500\n",
       "3      987.44     762.56       112.74625      112.13375       112.44000\n",
       "4     1024.92     725.70       150.22625      148.99375       149.61000\n",
       "5     1059.94     687.61       185.24625      187.08375       186.16500"
      ]
     },
     "metadata": {},
     "output_type": "display_data"
    }
   ],
   "source": [
    "posmax = pd.read_csv(\"233\\\\posmax.csv\", index_col=0)\n",
    "posmin = pd.read_csv(\"233\\\\posmin.csv\", index_col=0)\n",
    "posmin.iloc[0,0] = nan\n",
    "\n",
    "pos0 = array([posmin.mean(axis=1),posmax.mean(axis=1)]).mean(axis=0)[1:].mean()\n",
    "dpos0 = sqrt(9**2/5 + 2.5**2/5)\n",
    "valerr(\"x_0\", pos0, dpos0, 2, \"px\")\n",
    "\n",
    "posmin = posmin.join(pd.Series(posmin.iloc[:,0]-pos0, name=\"Abstand rechts\"))\n",
    "posmin = posmin.join(pd.Series(abs(posmin.iloc[:,1]-pos0), name=\"Abstand links\"))\n",
    "posmin = posmin.join(pd.Series(posmin.iloc[:,2:4].mean(axis=1), name=\"Abstand mittel\"))\n",
    "display(posmin)"
   ]
  },
  {
   "cell_type": "markdown",
   "metadata": {},
   "source": []
  }
 ],
 "metadata": {
  "kernelspec": {
   "display_name": "Python 3",
   "language": "python",
   "name": "python3"
  },
  "language_info": {
   "codemirror_mode": {
    "name": "ipython",
    "version": 3
   },
   "file_extension": ".py",
   "mimetype": "text/x-python",
   "name": "python",
   "nbconvert_exporter": "python",
   "pygments_lexer": "ipython3",
   "version": "3.5.1"
  }
 },
 "nbformat": 4,
 "nbformat_minor": 0
}
