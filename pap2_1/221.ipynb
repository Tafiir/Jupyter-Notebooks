{
 "cells": [
  {
   "cell_type": "code",
   "execution_count": 21,
   "metadata": {
    "collapsed": false
   },
   "outputs": [
    {
     "data": {
      "text/latex": [
       "$\\Delta \\kappa = \\sqrt{\\frac{dh_{1}^{2} h_{3}^{2} + dh_{3}^{2} h_{1}^{2}}{\\left(h_{1} - h_{3}\\right)^{4}}}$"
      ],
      "text/plain": [
       "<IPython.core.display.Latex object>"
      ]
     },
     "metadata": {},
     "output_type": "display_data"
    },
    {
     "data": {
      "text/latex": [
       "$\\frac{\\Delta \\kappa}{\\kappa} = \\sqrt{\\frac{dh_{1}^{2} h_{3}^{2} + dh_{3}^{2} h_{1}^{2}}{h_{1}^{2} \\left(h_{1} - h_{3}\\right)^{2}}}$"
      ],
      "text/plain": [
       "<IPython.core.display.Latex object>"
      ]
     },
     "metadata": {},
     "output_type": "display_data"
    }
   ],
   "source": [
    "from uncertainties import uncertainties\n",
    "import scipy.constants as u\n",
    "\n",
    "h1, dh1, h3, dh3 = sm.symbols('h1 dh1 h3 dh3')\n",
    "k_c = h1/(h1-h3)\n",
    "\n",
    "k_cabs, k_crel = uncertainties(k_c, h1, h3)\n",
    "\n",
    "display(Latex(r\"$\\Delta \\kappa = {}$\".format(sm.latex(k_cabs))))\n",
    "display(Latex(r\"$\\frac{{\\Delta \\kappa}}{{\\kappa}} = {}$\".format(sm.latex(k_crel))))"
   ]
  },
  {
   "cell_type": "code",
   "execution_count": 12,
   "metadata": {
    "collapsed": false
   },
   "outputs": [
    {
     "data": {
      "text/plain": [
       "array([ 1.194,  1.286,  1.271,  1.452,  1.308,  1.286])"
      ]
     },
     "metadata": {},
     "output_type": "display_data"
    },
    {
     "data": {
      "text/plain": [
       "array([ 0.008,  0.016,  0.014,  0.018,  0.017,  0.016])"
      ]
     },
     "metadata": {},
     "output_type": "display_data"
    },
    {
     "data": {
      "text/plain": [
       "1.2994632682132681"
      ]
     },
     "metadata": {},
     "output_type": "display_data"
    },
    {
     "data": {
      "text/plain": [
       "0.0061691694206442655"
      ]
     },
     "metadata": {},
     "output_type": "display_data"
    }
   ],
   "source": [
    "h_1 = array([86, 54, 61, 61, 51, 54])\n",
    "h_3 = array([14, 12, 13, 19, 12, 12])\n",
    "\n",
    "k_c_ = h_1/(h_1-h_3)\n",
    "\n",
    "dk_c = array([k_cabs.subs([(h1, h_1[i]), (h3, h_3[i]), (dh1, 0.5), (dh3, 0.5)]) for i in range(len(h_1))], dtype=float)\n",
    "\n",
    "display(around(k_c_, 3))\n",
    "display(around(dk_c, 3))\n",
    "display(k_c_.mean())\n",
    "display(sqrt(sum(dk_c**2))/6)"
   ]
  },
  {
   "cell_type": "code",
   "execution_count": 14,
   "metadata": {
    "collapsed": false
   },
   "outputs": [
    {
     "data": {
      "text/latex": [
       "$\\kappa = \\frac{4 V m}{T^{2} r^{4} \\left(\\frac{g m}{\\pi r^{2}} + p_{0}\\right)} $"
      ],
      "text/plain": [
       "<IPython.core.display.Latex object>"
      ]
     },
     "metadata": {},
     "output_type": "display_data"
    },
    {
     "data": {
      "text/latex": [
       "$\\Delta \\kappa = 4 \\pi \\sqrt{\\frac{1}{T^{6} r^{6} \\left(g m + \\pi p_{0} r^{2}\\right)^{4}} \\left(T^{2} V^{2} dg^{2} m^{4} r^{2} + \\pi^{2} T^{2} V^{2} dm^{2} p_{0}^{2} r^{6} + \\pi^{2} T^{2} V^{2} dp_{0}^{2} m^{2} r^{6} + 4 T^{2} V^{2} dr^{2} m^{2} \\left(g m + 2 \\pi p_{0} r^{2}\\right)^{2} + T^{2} dV^{2} m^{2} r^{2} \\left(g m + \\pi p_{0} r^{2}\\right)^{2} + 4 V^{2} dT^{2} m^{2} r^{2} \\left(g m + \\pi p_{0} r^{2}\\right)^{2}\\right)} $"
      ],
      "text/plain": [
       "<IPython.core.display.Latex object>"
      ]
     },
     "metadata": {},
     "output_type": "display_data"
    }
   ],
   "source": [
    "m, V, r, T, p0, g = sm.symbols('m V r T p_0 g')\n",
    "dm, dV, dr, dT, dp0, dg = sm.symbols('dm dV dr dT dp_0 dg')\n",
    "k = 4*m*V/(r**4 * T**2 * (p0 + m*g/(sm.pi*r**2)))\n",
    "k_abs,_ = uncertainties(k, m, V, r, T, p0, g)\n",
    "\n",
    "display(Latex(r\"$\\kappa = {} $\".format(sm.latex(k))))\n",
    "display(Latex(r\"$\\Delta \\kappa = {} $\".format(sm.latex(k_abs))))"
   ]
  },
  {
   "cell_type": "code",
   "execution_count": 30,
   "metadata": {
    "collapsed": false
   },
   "outputs": [
    {
     "data": {
      "text/latex": [
       "$\\overline{T} = 0.993 \\pm 0.004 $"
      ],
      "text/plain": [
       "<IPython.core.display.Latex object>"
      ]
     },
     "metadata": {},
     "output_type": "display_data"
    },
    {
     "data": {
      "text/latex": [
       "$\\kappa_{Luft} = 1.376 \\pm 0.021$"
      ],
      "text/plain": [
       "<IPython.core.display.Latex object>"
      ]
     },
     "metadata": {},
     "output_type": "display_data"
    }
   ],
   "source": [
    "Tm_l = (array([49.78, 49.62, 49.62])/50).mean()\n",
    "dTm_l = 0.2/50\n",
    "k_l = k.subs([\n",
    "        (m, 26.116*u.gram),\n",
    "        (V, 5370e-3*u.liter),\n",
    "        (r, 15.95/2*10**(-3)),\n",
    "        (T, Tm_l),\n",
    "        (p0, 1008.2e-3*u.bar),\n",
    "        (g, 9.80984)\n",
    "    ]).evalf()\n",
    "dk_l =  k_abs.subs([\n",
    "        (m, 26.116*u.gram),\n",
    "        (V, 5370e-3*u.liter),\n",
    "        (r, 15.95e-3/2),\n",
    "        (T, Tm_l),\n",
    "        (p0, 1008.2e-3*u.bar),\n",
    "        (g, 9.80984),\n",
    "        (dm, 0.002*u.gram),\n",
    "        (dV, 5e-3*u.liter),\n",
    "        (dr, 0.05e-3/2),\n",
    "        (dT, dTm_l),\n",
    "        (dp0, 1.5e-3*u.bar),\n",
    "        (dg, 0)\n",
    "    ]).evalf()\n",
    "display(Latex(r\"$\\overline{{T}} = {0:.3f} \\pm {1} $\".format(Tm_l, dTm_l)))\n",
    "display(Latex(r\"$\\kappa_{{Luft}} = {0:.3f} \\pm {1:.3f}$\".format(k_l, dk_l)))"
   ]
  },
  {
   "cell_type": "code",
   "execution_count": 32,
   "metadata": {
    "collapsed": false
   },
   "outputs": [
    {
     "data": {
      "text/latex": [
       "$\\overline{T} = 0.925 \\pm 0.004 $"
      ],
      "text/plain": [
       "<IPython.core.display.Latex object>"
      ]
     },
     "metadata": {},
     "output_type": "display_data"
    },
    {
     "data": {
      "text/latex": [
       "$\\kappa_{Ar} = 1.599 \\pm 0.024$"
      ],
      "text/plain": [
       "<IPython.core.display.Latex object>"
      ]
     },
     "metadata": {},
     "output_type": "display_data"
    }
   ],
   "source": [
    "Tm_a = (array([46.18, 46.18, 46.40])/50).mean()\n",
    "dTm_a = 0.2/50\n",
    "k_a = k.subs([\n",
    "        (m, 26.006*u.gram),\n",
    "        (V, 5460e-3*u.liter),\n",
    "        (r, 15.97/2*10**(-3)),\n",
    "        (T, Tm_a),\n",
    "        (p0, 1008.2e-3*u.bar),\n",
    "        (g, 9.80984)\n",
    "    ]).evalf()\n",
    "dk_a =  k_abs.subs([\n",
    "        (m, 26.006*u.gram),\n",
    "        (V, 5460e-3*u.liter),\n",
    "        (r, 15.97e-3/2),\n",
    "        (T, Tm_a),\n",
    "        (p0, 1008.2e-3*u.bar),\n",
    "        (g, 9.80984),\n",
    "        (dm, 0.002*u.gram),\n",
    "        (dV, 5e-3*u.liter),\n",
    "        (dr, 0.05e-3/2),\n",
    "        (dT, dTm_a),\n",
    "        (dp0, 1.5e-3*u.bar),\n",
    "        (dg, 0)\n",
    "    ]).evalf()\n",
    "display(Latex(r\"$\\overline{{T}} = {0:.3f} \\pm {1} $\".format(Tm_a, dTm_a)))\n",
    "display(Latex(r\"$\\kappa_{{Ar}} = {0:.3f} \\pm {1:.3f}$\".format(k_a, dk_a)))"
   ]
  }
 ],
 "metadata": {
  "kernelspec": {
   "display_name": "Python 3",
   "language": "python",
   "name": "python3"
  },
  "language_info": {
   "codemirror_mode": {
    "name": "ipython",
    "version": 3
   },
   "file_extension": ".py",
   "mimetype": "text/x-python",
   "name": "python",
   "nbconvert_exporter": "python",
   "pygments_lexer": "ipython3",
   "version": "3.5.1"
  }
 },
 "nbformat": 4,
 "nbformat_minor": 0
}
