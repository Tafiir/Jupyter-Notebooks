{
 "cells": [
  {
   "cell_type": "code",
   "execution_count": 3,
   "metadata": {
    "collapsed": false
   },
   "outputs": [
    {
     "data": {
      "text/html": [
       "<div>\n",
       "<table border=\"1\" class=\"dataframe\">\n",
       "  <thead>\n",
       "    <tr style=\"text-align: right;\">\n",
       "      <th></th>\n",
       "      <th>Kugeldurchmesser</th>\n",
       "      <th>Fallstrecke</th>\n",
       "      <th>Fallzeit 1</th>\n",
       "      <th>Fallzeit 2</th>\n",
       "      <th>Fallzeit 3</th>\n",
       "      <th>Fallzeit 4</th>\n",
       "      <th>Fallzeit 5</th>\n",
       "      <th>Dichte</th>\n",
       "    </tr>\n",
       "  </thead>\n",
       "  <tbody>\n",
       "    <tr>\n",
       "      <th>0</th>\n",
       "      <td>9.000</td>\n",
       "      <td>200</td>\n",
       "      <td>6.28</td>\n",
       "      <td>6.07</td>\n",
       "      <td>6.15</td>\n",
       "      <td>6.14</td>\n",
       "      <td>6.12</td>\n",
       "      <td>0.001362</td>\n",
       "    </tr>\n",
       "    <tr>\n",
       "      <th>1</th>\n",
       "      <td>8.000</td>\n",
       "      <td>200</td>\n",
       "      <td>7.82</td>\n",
       "      <td>7.58</td>\n",
       "      <td>7.50</td>\n",
       "      <td>7.72</td>\n",
       "      <td>7.50</td>\n",
       "      <td>0.001357</td>\n",
       "    </tr>\n",
       "    <tr>\n",
       "      <th>2</th>\n",
       "      <td>7.144</td>\n",
       "      <td>200</td>\n",
       "      <td>8.45</td>\n",
       "      <td>8.26</td>\n",
       "      <td>8.58</td>\n",
       "      <td>8.29</td>\n",
       "      <td>8.51</td>\n",
       "      <td>0.001378</td>\n",
       "    </tr>\n",
       "    <tr>\n",
       "      <th>3</th>\n",
       "      <td>6.000</td>\n",
       "      <td>200</td>\n",
       "      <td>11.39</td>\n",
       "      <td>11.39</td>\n",
       "      <td>11.32</td>\n",
       "      <td>11.21</td>\n",
       "      <td>11.39</td>\n",
       "      <td>0.001378</td>\n",
       "    </tr>\n",
       "    <tr>\n",
       "      <th>4</th>\n",
       "      <td>5.000</td>\n",
       "      <td>200</td>\n",
       "      <td>15.23</td>\n",
       "      <td>15.32</td>\n",
       "      <td>15.54</td>\n",
       "      <td>15.58</td>\n",
       "      <td>15.53</td>\n",
       "      <td>0.001378</td>\n",
       "    </tr>\n",
       "    <tr>\n",
       "      <th>5</th>\n",
       "      <td>4.000</td>\n",
       "      <td>100</td>\n",
       "      <td>12.32</td>\n",
       "      <td>12.00</td>\n",
       "      <td>12.06</td>\n",
       "      <td>12.36</td>\n",
       "      <td>12.15</td>\n",
       "      <td>0.001378</td>\n",
       "    </tr>\n",
       "    <tr>\n",
       "      <th>6</th>\n",
       "      <td>3.000</td>\n",
       "      <td>50</td>\n",
       "      <td>10.39</td>\n",
       "      <td>10.20</td>\n",
       "      <td>10.29</td>\n",
       "      <td>10.06</td>\n",
       "      <td>10.28</td>\n",
       "      <td>0.001378</td>\n",
       "    </tr>\n",
       "    <tr>\n",
       "      <th>7</th>\n",
       "      <td>2.000</td>\n",
       "      <td>50</td>\n",
       "      <td>20.39</td>\n",
       "      <td>20.51</td>\n",
       "      <td>20.51</td>\n",
       "      <td>19.73</td>\n",
       "      <td>19.34</td>\n",
       "      <td>0.001378</td>\n",
       "    </tr>\n",
       "    <tr>\n",
       "      <th>8</th>\n",
       "      <td>1.500</td>\n",
       "      <td>50</td>\n",
       "      <td>33.93</td>\n",
       "      <td>34.04</td>\n",
       "      <td>34.82</td>\n",
       "      <td>34.48</td>\n",
       "      <td>33.89</td>\n",
       "      <td>0.001392</td>\n",
       "    </tr>\n",
       "  </tbody>\n",
       "</table>\n",
       "</div>"
      ],
      "text/plain": [
       "   Kugeldurchmesser  Fallstrecke  Fallzeit 1  Fallzeit 2  Fallzeit 3  \\\n",
       "0             9.000          200        6.28        6.07        6.15   \n",
       "1             8.000          200        7.82        7.58        7.50   \n",
       "2             7.144          200        8.45        8.26        8.58   \n",
       "3             6.000          200       11.39       11.39       11.32   \n",
       "4             5.000          200       15.23       15.32       15.54   \n",
       "5             4.000          100       12.32       12.00       12.06   \n",
       "6             3.000           50       10.39       10.20       10.29   \n",
       "7             2.000           50       20.39       20.51       20.51   \n",
       "8             1.500           50       33.93       34.04       34.82   \n",
       "\n",
       "   Fallzeit 4  Fallzeit 5    Dichte  \n",
       "0        6.14        6.12  0.001362  \n",
       "1        7.72        7.50  0.001357  \n",
       "2        8.29        8.51  0.001378  \n",
       "3       11.21       11.39  0.001378  \n",
       "4       15.58       15.53  0.001378  \n",
       "5       12.36       12.15  0.001378  \n",
       "6       10.06       10.28  0.001378  \n",
       "7       19.73       19.34  0.001378  \n",
       "8       34.48       33.89  0.001392  "
      ]
     },
     "metadata": {},
     "output_type": "display_data"
    }
   ],
   "source": [
    "ind = arange(1,10,1)\n",
    "data = pd.read_csv('212_fallzeit.csv')\n",
    "data['Dichte'] += 0.0025 \n",
    "data['Dichte'] /= 1000\n",
    "display(data)"
   ]
  },
  {
   "cell_type": "code",
   "execution_count": 4,
   "metadata": {
    "collapsed": false
   },
   "outputs": [
    {
     "data": {
      "text/latex": [
       "$$m=8688.470987750985$$"
      ],
      "text/plain": [
       "<IPython.core.display.Math object>"
      ]
     },
     "metadata": {},
     "output_type": "display_data"
    }
   ],
   "source": [
    "v = pd.DataFrame([data.iloc[:,1]/i[1] for i in list(data.loc[:,'Fallzeit 1':'Fallzeit 5'].iteritems())]).transpose()\n",
    "vm = v.mean(axis=1)\n",
    "\n",
    "ds = data['Kugeldurchmesser']/2\n",
    "ds[6:] = ds[6:]*2\n",
    "\n",
    "dt = 0.2\n",
    "\n",
    "dv = sqrt(((dt/data.loc[:,'Fallzeit 1':'Fallzeit 5'])**2).add((ds/data['Fallstrecke'])**2, axis=0))\n",
    "dv.columns = v.columns\n",
    "dv *= v\n",
    "\n",
    "dvm = sqrt((dv**2).sum(axis=1))/sqrt(5)\n",
    "\n",
    "r_f = 1.1466/1000\n",
    "dr_f = 0.0002/1000\n",
    "\n",
    "dr_k = 0.0025/1000\n",
    "\n",
    "vs,r_fs,r_ks = sm.symbols('v \\\\rho_f \\\\rho_k')\n",
    "dvs,dr_fs,dr_ks = sm.symbols('dv d\\\\rho_f d\\\\rho_k')\n",
    "f = vs/(r_ks - r_fs)\n",
    "\n",
    "import fehler\n",
    "f_abs, f_rel = fehler.fehler(f, vs, r_fs, r_ks)\n",
    "\n",
    "y = array([f.subs([(vs, vm[i]), (r_fs, r_f), (r_ks, data['Dichte'][i])]) for i in range(9)], dtype=float)\n",
    "dy = array([f_abs.subs([(vs, vm[i]), (r_fs, r_f), (r_ks, data['Dichte'][i]),\n",
    "                        (dvs, dvm[i]), (dr_fs, dr_f), (dr_ks, dr_k)]) for i in range(9)], dtype=float)\n",
    "\n",
    "rsq = (data['Kugeldurchmesser']/2)**2\n",
    "\n",
    "import scipy.optimize as o\n",
    "g = lambda x, m: m*x\n",
    "m = o.curve_fit(g, rsq, y, sigma=dy)\n",
    "m = m[0][0]\n",
    "display(Math('m={}'.format(m)))"
   ]
  },
  {
   "cell_type": "code",
   "execution_count": 5,
   "metadata": {
    "collapsed": false
   },
   "outputs": [
    {
     "data": {
      "image/png": "[encoded data removed]",
      "text/plain": [
       "<matplotlib.figure.Figure at 0x7550fb0>"
      ]
     },
     "metadata": {},
     "output_type": "display_data"
    }
   ],
   "source": [
    "figure(figsize=(10,6), dpi=512)\n",
    "errorbar(rsq, y, yerr=dy, fmt='s', markersize=2.0, label='Messpunkte ohne Korrektur')\n",
    "plot(arange(0,25,0.1), g(arange(0,25,0.1), m), 'r-', label='Gefittete Geraden')\n",
    "xlim(0, 22)\n",
    "ylim(0, 180000)\n",
    "xlabel(r'$r^2 \\ [mm^2]$', fontsize=18)\n",
    "ylabel(r'$\\frac{{\\bar{{v}}}}{{\\rho_k-\\rho_f}} \\ \\left[\\frac{{mm^4}}{{gs}}\\right]$', fontsize=18)\n",
    "title(\"Stokes'sches Gesetz ohne Korrektur\")\n",
    "grid()\n",
    "legend(loc=4)\n",
    "show()"
   ]
  },
  {
   "cell_type": "code",
   "execution_count": 6,
   "metadata": {
    "collapsed": false
   },
   "outputs": [
    {
     "data": {
      "text/latex": [
       "$$m'=10046.584553637982 \\pm 181.62035527803334$$"
      ],
      "text/plain": [
       "<IPython.core.display.Math object>"
      ]
     },
     "metadata": {},
     "output_type": "display_data"
    }
   ],
   "source": [
    "R = 75/2\n",
    "l = 1 + 2.1 * (data['Kugeldurchmesser']/2)/R\n",
    "\n",
    "y_ = y * l\n",
    "\n",
    "rs, drs = sm.symbols('r dr')\n",
    "f_ = vs/(r_ks - r_fs) * (1 + 2.1 * rs/R)\n",
    "f_abs_, f_rel_ = fehler.fehler(f_, vs, r_fs, r_ks, rs)\n",
    "\n",
    "dy_ = array([f_abs_.subs([(vs, vm[i]), (r_fs, r_f), (r_ks, data['Dichte'][i]), (rs, data['Kugeldurchmesser'][i]/2),\n",
    "                          (dvs, dvm[i]), (dr_fs, dr_f), (dr_ks, dr_k),\n",
    "                          (drs, data['Kugeldurchmesser'][i]*0.01)]) for i in range(9)], dtype=float)\n",
    "\n",
    "m_ = o.curve_fit(g, rsq, y_, sigma=dy_)\n",
    "dm_ = sqrt(m_[1][0][0])\n",
    "m_ = m_[0][0]\n",
    "display(Math('m\\'={0} \\pm {1}'.format(m_, dm_)))\n"
   ]
  },
  {
   "cell_type": "code",
   "execution_count": 7,
   "metadata": {
    "collapsed": false
   },
   "outputs": [
    {
     "data": {
      "image/png": "[encoded data removed]",
      "text/plain": [
       "<matplotlib.figure.Figure at 0x86b7590>"
      ]
     },
     "metadata": {},
     "output_type": "display_data"
    }
   ],
   "source": [
    "figure(figsize=(10,6), dpi=512)\n",
    "errorbar(rsq, y_, yerr=dy_, fmt='s', markersize=3.0, label='Messpunkte mit Korrektur')\n",
    "plot(arange(0,25,0.1), g(arange(0,25,0.1), m_), 'r-', label='Gefittete Geraden')\n",
    "xlim(0, 22)\n",
    "ylim(0, 220000)\n",
    "xlabel(r'$r^2 \\ [mm^2]$', fontsize=18)\n",
    "ylabel(r'$\\frac{{\\bar{{v}} \\lambda}}{{\\rho_k-\\rho_f}} \\ \\left[\\frac{{mm^4}}{{gs}}\\right]$', fontsize=18)\n",
    "title(\"Stokes'sches Gesetz mit Korrektur\")\n",
    "grid()\n",
    "legend(loc=4)\n",
    "show()"
   ]
  },
  {
   "cell_type": "code",
   "execution_count": 8,
   "metadata": {
    "collapsed": false,
    "scrolled": true
   },
   "outputs": [
    {
     "data": {
      "image/png": "[encoded data removed]",
      "text/plain": [
       "<matplotlib.figure.Figure at 0x81882b0>"
      ]
     },
     "metadata": {},
     "output_type": "display_data"
    }
   ],
   "source": [
    "figure(figsize=(10,6), dpi=512)\n",
    "\n",
    "errorbar(rsq, y_, yerr=dy_, fmt='bs', markersize=3.0, label='Messpunkte mit Korrektur')\n",
    "plot(arange(0,25,0.1), g(arange(0,25,0.1), m_), 'r-', label='Gefittete Geraden mit Korrektur')\n",
    "\n",
    "errorbar(rsq, y, yerr=dy, fmt='g^', markersize=4.0, label='Messpunkte ohne Korrektur')\n",
    "plot(arange(0,25,0.1), g(arange(0,25,0.1), m), 'y--', label='Gefittete Geraden ohne Korrektur')\n",
    "\n",
    "xlim(0, 22)\n",
    "ylim(0, 220000)\n",
    "xlabel(r'$r^2 \\ [mm^2]$', fontsize=18)\n",
    "ylabel(r'$\\frac{{\\bar{{v}}}}{{\\rho_k-\\rho_f}} \\ \\left[\\frac{{mm^4}}{{gs}}\\right]$', fontsize=18)\n",
    "title(\"Stokes'sches Gesetz Vergleich\")\n",
    "grid()\n",
    "legend(loc=4)\n",
    "show()"
   ]
  },
  {
   "cell_type": "code",
   "execution_count": 9,
   "metadata": {
    "collapsed": false
   },
   "outputs": [
    {
     "data": {
      "text/latex": [
       "$\\eta = 0.2169856265883966 \\pm 0.003922627275051482 $"
      ],
      "text/plain": [
       "<IPython.core.display.Latex object>"
      ]
     },
     "metadata": {},
     "output_type": "display_data"
    }
   ],
   "source": [
    "g_ = 9.80984 * 1000\n",
    "n = 2/9 * g_ / m_\n",
    "dn = n * dm_/m_\n",
    "display(Latex(r'$\\eta = {0} \\pm {1} $'.format(n, dn)))\n",
    "\n",
    "v_lam = m_ * (data['Dichte'] - r_f) * rsq\n",
    "dv_lam = v_lam * sqrt((dm_/m_)**2 + (dr_k/(data['Dichte'] - r_f))**2 + (dr_f/(data['Dichte'] - r_f))**2 + (2*0.01)**2)\n",
    "\n",
    "h = vm/v_lam\n",
    "dh = h * sqrt((dvm/vm)**2 + (dv_lam/v_lam)**2)\n",
    "\n",
    "Rey = r_f * vm * data['Kugeldurchmesser']/n"
   ]
  },
  {
   "cell_type": "code",
   "execution_count": 10,
   "metadata": {
    "collapsed": false,
    "scrolled": true
   },
   "outputs": [
    {
     "data": {
      "image/png": "[encoded data removed]",
      "text/plain": [
       "<matplotlib.figure.Figure at 0x8cd5e70>"
      ]
     },
     "metadata": {},
     "output_type": "display_data"
    }
   ],
   "source": [
    "fig = figure(figsize=(10,6))\n",
    "ax = fig.add_subplot(211)\n",
    "ax.errorbar(Rey, h, yerr=dh, fmt='bs')\n",
    "ax.grid()\n",
    "ax.set_xscale('log')\n",
    "xlabel('$Re$', fontsize=18)\n",
    "ylabel(r'$\\frac{{\\bar{{v}}}}{{v_{{lam}}}}$', fontsize=18)\n",
    "xlim(10**(-2),10)\n",
    "title(r'Verhältnis der Geschwindigkeiten $\\frac{{\\bar{{v}}}}{{v_{{lam}}}}$ gegen Reynoldszahl')\n",
    "show()"
   ]
  },
  {
   "cell_type": "code",
   "execution_count": 36,
   "metadata": {
    "collapsed": false
   },
   "outputs": [
    {
     "data": {
      "text/html": [
       "<div>\n",
       "<table border=\"1\" class=\"dataframe\">\n",
       "  <thead>\n",
       "    <tr style=\"text-align: right;\">\n",
       "      <th></th>\n",
       "      <th>0</th>\n",
       "      <th>1</th>\n",
       "      <th>2</th>\n",
       "      <th>3</th>\n",
       "      <th>4</th>\n",
       "      <th>5</th>\n",
       "      <th>6</th>\n",
       "      <th>7</th>\n",
       "      <th>8</th>\n",
       "    </tr>\n",
       "  </thead>\n",
       "  <tbody>\n",
       "    <tr>\n",
       "      <th>Kugeldurchmesser</th>\n",
       "      <td>9.000</td>\n",
       "      <td>8.000</td>\n",
       "      <td>7.144</td>\n",
       "      <td>6.000</td>\n",
       "      <td>5.000</td>\n",
       "      <td>4.000</td>\n",
       "      <td>3.000</td>\n",
       "      <td>2.000</td>\n",
       "      <td>1.500</td>\n",
       "    </tr>\n",
       "    <tr>\n",
       "      <th>$\\bar{{v}} \\ \\left[ \\frac{{mm}}{{s}} \\right]$</th>\n",
       "      <td>32.514</td>\n",
       "      <td>26.240</td>\n",
       "      <td>23.764</td>\n",
       "      <td>17.637</td>\n",
       "      <td>12.954</td>\n",
       "      <td>8.213</td>\n",
       "      <td>4.881</td>\n",
       "      <td>2.489</td>\n",
       "      <td>1.461</td>\n",
       "    </tr>\n",
       "    <tr>\n",
       "      <th>$\\Delta \\bar{{v}}$</th>\n",
       "      <td>1.286</td>\n",
       "      <td>0.866</td>\n",
       "      <td>0.707</td>\n",
       "      <td>0.408</td>\n",
       "      <td>0.233</td>\n",
       "      <td>0.213</td>\n",
       "      <td>0.308</td>\n",
       "      <td>0.103</td>\n",
       "      <td>0.045</td>\n",
       "    </tr>\n",
       "  </tbody>\n",
       "</table>\n",
       "</div>"
      ],
      "text/plain": [
       "                                                    0       1       2       3  \\\n",
       "Kugeldurchmesser                                9.000   8.000   7.144   6.000   \n",
       "$\\bar{{v}} \\ \\left[ \\frac{{mm}}{{s}} \\right]$  32.514  26.240  23.764  17.637   \n",
       "$\\Delta \\bar{{v}}$                              1.286   0.866   0.707   0.408   \n",
       "\n",
       "                                                    4      5      6      7  \\\n",
       "Kugeldurchmesser                                5.000  4.000  3.000  2.000   \n",
       "$\\bar{{v}} \\ \\left[ \\frac{{mm}}{{s}} \\right]$  12.954  8.213  4.881  2.489   \n",
       "$\\Delta \\bar{{v}}$                              0.233  0.213  0.308  0.103   \n",
       "\n",
       "                                                   8  \n",
       "Kugeldurchmesser                               1.500  \n",
       "$\\bar{{v}} \\ \\left[ \\frac{{mm}}{{s}} \\right]$  1.461  \n",
       "$\\Delta \\bar{{v}}$                             0.045  "
      ]
     },
     "metadata": {},
     "output_type": "display_data"
    }
   ],
   "source": [
    "pt_vm = pd.DataFrame(data=[data['Kugeldurchmesser'], \n",
    "                           pd.Series(vm, name=r'$\\bar{{v}} \\ \\left[ \\frac{{mm}}{{s}} \\right]$'),\n",
    "                           pd.Series(dvm, name=r'$\\Delta \\bar{{v}}$')\n",
    "                          ]).round(3)\n",
    "display(pt_vm)"
   ]
  },
  {
   "cell_type": "code",
   "execution_count": 43,
   "metadata": {
    "collapsed": false
   },
   "outputs": [
    {
     "data": {
      "text/html": [
       "<div>\n",
       "<table border=\"1\" class=\"dataframe\">\n",
       "  <thead>\n",
       "    <tr style=\"text-align: right;\">\n",
       "      <th></th>\n",
       "      <th>0</th>\n",
       "      <th>1</th>\n",
       "      <th>2</th>\n",
       "      <th>3</th>\n",
       "      <th>4</th>\n",
       "      <th>5</th>\n",
       "      <th>6</th>\n",
       "      <th>7</th>\n",
       "      <th>8</th>\n",
       "    </tr>\n",
       "  </thead>\n",
       "  <tbody>\n",
       "    <tr>\n",
       "      <th>Kugeldurchmesser</th>\n",
       "      <td>9</td>\n",
       "      <td>8</td>\n",
       "      <td>7</td>\n",
       "      <td>6</td>\n",
       "      <td>5</td>\n",
       "      <td>4</td>\n",
       "      <td>3</td>\n",
       "      <td>2</td>\n",
       "      <td>2</td>\n",
       "    </tr>\n",
       "    <tr>\n",
       "      <th>$\\frac{{\\bar{{v}}}}{{\\rho_k-\\rho_f}} \\ \\left[\\frac{{mm^4}}{{gs}}\\right]$</th>\n",
       "      <td>150597</td>\n",
       "      <td>124420</td>\n",
       "      <td>102918</td>\n",
       "      <td>76385</td>\n",
       "      <td>56104</td>\n",
       "      <td>35568</td>\n",
       "      <td>21141</td>\n",
       "      <td>10782</td>\n",
       "      <td>5941</td>\n",
       "    </tr>\n",
       "    <tr>\n",
       "      <th>$\\Delta \\frac{{\\bar{{v}}}}{{\\rho_k-\\rho_f}} \\ \\left[\\frac{{mm^4}}{{gs}}\\right]$</th>\n",
       "      <td>6208</td>\n",
       "      <td>4366</td>\n",
       "      <td>3259</td>\n",
       "      <td>1954</td>\n",
       "      <td>1180</td>\n",
       "      <td>998</td>\n",
       "      <td>1354</td>\n",
       "      <td>460</td>\n",
       "      <td>191</td>\n",
       "    </tr>\n",
       "    <tr>\n",
       "      <th>$\\frac{{\\bar{{v}}\\lambda}}{{\\rho_k-\\rho_f}} \\ \\left[\\frac{{mm^4}}{{gs}}\\right]$</th>\n",
       "      <td>188547</td>\n",
       "      <td>152290</td>\n",
       "      <td>123505</td>\n",
       "      <td>89218</td>\n",
       "      <td>63959</td>\n",
       "      <td>39552</td>\n",
       "      <td>22917</td>\n",
       "      <td>11385</td>\n",
       "      <td>6190</td>\n",
       "    </tr>\n",
       "    <tr>\n",
       "      <th>$\\Delta \\frac{{\\bar{{v}}\\lambda}}{{\\rho_k-\\rho_f}} \\ \\left[\\frac{{mm^4}}{{gs}}\\right]$</th>\n",
       "      <td>7809</td>\n",
       "      <td>5373</td>\n",
       "      <td>3932</td>\n",
       "      <td>2296</td>\n",
       "      <td>1354</td>\n",
       "      <td>1113</td>\n",
       "      <td>1468</td>\n",
       "      <td>486</td>\n",
       "      <td>200</td>\n",
       "    </tr>\n",
       "  </tbody>\n",
       "</table>\n",
       "</div>"
      ],
      "text/plain": [
       "                                                         0       1       2  \\\n",
       "Kugeldurchmesser                                         9       8       7   \n",
       "$\\frac{{\\bar{{v}}}}{{\\rho_k-\\rho_f}} \\ \\left[\\f...  150597  124420  102918   \n",
       "$\\Delta \\frac{{\\bar{{v}}}}{{\\rho_k-\\rho_f}} \\ \\...    6208    4366    3259   \n",
       "$\\frac{{\\bar{{v}}\\lambda}}{{\\rho_k-\\rho_f}} \\ \\...  188547  152290  123505   \n",
       "$\\Delta \\frac{{\\bar{{v}}\\lambda}}{{\\rho_k-\\rho_...    7809    5373    3932   \n",
       "\n",
       "                                                        3      4      5  \\\n",
       "Kugeldurchmesser                                        6      5      4   \n",
       "$\\frac{{\\bar{{v}}}}{{\\rho_k-\\rho_f}} \\ \\left[\\f...  76385  56104  35568   \n",
       "$\\Delta \\frac{{\\bar{{v}}}}{{\\rho_k-\\rho_f}} \\ \\...   1954   1180    998   \n",
       "$\\frac{{\\bar{{v}}\\lambda}}{{\\rho_k-\\rho_f}} \\ \\...  89218  63959  39552   \n",
       "$\\Delta \\frac{{\\bar{{v}}\\lambda}}{{\\rho_k-\\rho_...   2296   1354   1113   \n",
       "\n",
       "                                                        6      7     8  \n",
       "Kugeldurchmesser                                        3      2     2  \n",
       "$\\frac{{\\bar{{v}}}}{{\\rho_k-\\rho_f}} \\ \\left[\\f...  21141  10782  5941  \n",
       "$\\Delta \\frac{{\\bar{{v}}}}{{\\rho_k-\\rho_f}} \\ \\...   1354    460   191  \n",
       "$\\frac{{\\bar{{v}}\\lambda}}{{\\rho_k-\\rho_f}} \\ \\...  22917  11385  6190  \n",
       "$\\Delta \\frac{{\\bar{{v}}\\lambda}}{{\\rho_k-\\rho_...   1468    486   200  "
      ]
     },
     "metadata": {},
     "output_type": "display_data"
    }
   ],
   "source": [
    "pt_y = pd.DataFrame(data=[data['Kugeldurchmesser'],\n",
    "                    pd.Series(y, name=r'$\\frac{{\\bar{{v}}}}{{\\rho_k-\\rho_f}} \\ \\left[\\frac{{mm^4}}{{gs}}\\right]$'),\n",
    "                    pd.Series(dy, name=r'$\\Delta \\frac{{\\bar{{v}}}}{{\\rho_k-\\rho_f}} \\ \\left[\\frac{{mm^4}}{{gs}}\\right]$'),\n",
    "                    pd.Series(y_, name=r'$\\frac{{\\bar{{v}}\\lambda}}{{\\rho_k-\\rho_f}} \\ \\left[\\frac{{mm^4}}{{gs}}\\right]$'),\n",
    "                    pd.Series(dy_, name=r'$\\Delta \\frac{{\\bar{{v}}\\lambda}}{{\\rho_k-\\rho_f}} \\ \\left[\\frac{{mm^4}}{{gs}}\\right]$')\n",
    "                    ]).round(0)\n",
    "display(pt_y)"
   ]
  },
  {
   "cell_type": "code",
   "execution_count": 38,
   "metadata": {
    "collapsed": false
   },
   "outputs": [
    {
     "data": {
      "text/html": [
       "<div>\n",
       "<table border=\"1\" class=\"dataframe\">\n",
       "  <thead>\n",
       "    <tr style=\"text-align: right;\">\n",
       "      <th></th>\n",
       "      <th>0</th>\n",
       "      <th>1</th>\n",
       "      <th>2</th>\n",
       "      <th>3</th>\n",
       "      <th>4</th>\n",
       "      <th>5</th>\n",
       "      <th>6</th>\n",
       "      <th>7</th>\n",
       "      <th>8</th>\n",
       "    </tr>\n",
       "  </thead>\n",
       "  <tbody>\n",
       "    <tr>\n",
       "      <th>Kugeldurchmesser</th>\n",
       "      <td>9.000</td>\n",
       "      <td>8.000</td>\n",
       "      <td>7.144</td>\n",
       "      <td>6.000</td>\n",
       "      <td>5.000</td>\n",
       "      <td>4.000</td>\n",
       "      <td>3.000</td>\n",
       "      <td>2.000</td>\n",
       "      <td>1.500</td>\n",
       "    </tr>\n",
       "    <tr>\n",
       "      <th>$\\bar{{v}} \\ \\left[ \\frac{{mm}}{{s}} \\right]$</th>\n",
       "      <td>32.514</td>\n",
       "      <td>26.240</td>\n",
       "      <td>23.764</td>\n",
       "      <td>17.637</td>\n",
       "      <td>12.954</td>\n",
       "      <td>8.213</td>\n",
       "      <td>4.881</td>\n",
       "      <td>2.489</td>\n",
       "      <td>1.461</td>\n",
       "    </tr>\n",
       "    <tr>\n",
       "      <th>$\\Delta \\bar{{v}}$</th>\n",
       "      <td>1.286</td>\n",
       "      <td>0.866</td>\n",
       "      <td>0.707</td>\n",
       "      <td>0.408</td>\n",
       "      <td>0.233</td>\n",
       "      <td>0.213</td>\n",
       "      <td>0.308</td>\n",
       "      <td>0.103</td>\n",
       "      <td>0.045</td>\n",
       "    </tr>\n",
       "    <tr>\n",
       "      <th>$v_{{lam}} \\ \\left[ \\frac{{mm}}{{s}} \\right]$</th>\n",
       "      <td>43.923</td>\n",
       "      <td>33.901</td>\n",
       "      <td>29.598</td>\n",
       "      <td>20.878</td>\n",
       "      <td>14.498</td>\n",
       "      <td>9.279</td>\n",
       "      <td>5.219</td>\n",
       "      <td>2.320</td>\n",
       "      <td>1.390</td>\n",
       "    </tr>\n",
       "    <tr>\n",
       "      <th>$\\Delta v_{{lam}}$</th>\n",
       "      <td>1.289</td>\n",
       "      <td>0.999</td>\n",
       "      <td>0.860</td>\n",
       "      <td>0.607</td>\n",
       "      <td>0.421</td>\n",
       "      <td>0.270</td>\n",
       "      <td>0.152</td>\n",
       "      <td>0.067</td>\n",
       "      <td>0.040</td>\n",
       "    </tr>\n",
       "  </tbody>\n",
       "</table>\n",
       "</div>"
      ],
      "text/plain": [
       "                                                    0       1       2       3  \\\n",
       "Kugeldurchmesser                                9.000   8.000   7.144   6.000   \n",
       "$\\bar{{v}} \\ \\left[ \\frac{{mm}}{{s}} \\right]$  32.514  26.240  23.764  17.637   \n",
       "$\\Delta \\bar{{v}}$                              1.286   0.866   0.707   0.408   \n",
       "$v_{{lam}} \\ \\left[ \\frac{{mm}}{{s}} \\right]$  43.923  33.901  29.598  20.878   \n",
       "$\\Delta v_{{lam}}$                              1.289   0.999   0.860   0.607   \n",
       "\n",
       "                                                    4      5      6      7  \\\n",
       "Kugeldurchmesser                                5.000  4.000  3.000  2.000   \n",
       "$\\bar{{v}} \\ \\left[ \\frac{{mm}}{{s}} \\right]$  12.954  8.213  4.881  2.489   \n",
       "$\\Delta \\bar{{v}}$                              0.233  0.213  0.308  0.103   \n",
       "$v_{{lam}} \\ \\left[ \\frac{{mm}}{{s}} \\right]$  14.498  9.279  5.219  2.320   \n",
       "$\\Delta v_{{lam}}$                              0.421  0.270  0.152  0.067   \n",
       "\n",
       "                                                   8  \n",
       "Kugeldurchmesser                               1.500  \n",
       "$\\bar{{v}} \\ \\left[ \\frac{{mm}}{{s}} \\right]$  1.461  \n",
       "$\\Delta \\bar{{v}}$                             0.045  \n",
       "$v_{{lam}} \\ \\left[ \\frac{{mm}}{{s}} \\right]$  1.390  \n",
       "$\\Delta v_{{lam}}$                             0.040  "
      ]
     },
     "metadata": {},
     "output_type": "display_data"
    }
   ],
   "source": [
    "pt_vlam = pd.DataFrame(data=[data['Kugeldurchmesser'], \n",
    "                           pd.Series(vm, name=r'$\\bar{{v}} \\ \\left[ \\frac{{mm}}{{s}} \\right]$'),\n",
    "                           pd.Series(dvm, name=r'$\\Delta \\bar{{v}}$'),\n",
    "                            pd.Series(v_lam, name=r'$v_{{lam}} \\ \\left[ \\frac{{mm}}{{s}} \\right]$'),\n",
    "                           pd.Series(dv_lam, name=r'$\\Delta v_{{lam}}$')\n",
    "                          ]).round(3)\n",
    "display(pt_vlam)"
   ]
  },
  {
   "cell_type": "code",
   "execution_count": 39,
   "metadata": {
    "collapsed": false
   },
   "outputs": [
    {
     "data": {
      "text/html": [
       "<div>\n",
       "<table border=\"1\" class=\"dataframe\">\n",
       "  <thead>\n",
       "    <tr style=\"text-align: right;\">\n",
       "      <th></th>\n",
       "      <th>0</th>\n",
       "      <th>1</th>\n",
       "      <th>2</th>\n",
       "      <th>3</th>\n",
       "      <th>4</th>\n",
       "      <th>5</th>\n",
       "      <th>6</th>\n",
       "      <th>7</th>\n",
       "      <th>8</th>\n",
       "    </tr>\n",
       "  </thead>\n",
       "  <tbody>\n",
       "    <tr>\n",
       "      <th>Kugeldurchmesser</th>\n",
       "      <td>9.000000</td>\n",
       "      <td>8.000000</td>\n",
       "      <td>7.144000</td>\n",
       "      <td>6.000000</td>\n",
       "      <td>5.000000</td>\n",
       "      <td>4.000000</td>\n",
       "      <td>3.000000</td>\n",
       "      <td>2.000000</td>\n",
       "      <td>1.500000</td>\n",
       "    </tr>\n",
       "    <tr>\n",
       "      <th>$\\frac{{\\bar{{v}}}}{{v_{{lam}}}}$</th>\n",
       "      <td>0.740240</td>\n",
       "      <td>0.774018</td>\n",
       "      <td>0.802880</td>\n",
       "      <td>0.844790</td>\n",
       "      <td>0.893502</td>\n",
       "      <td>0.885075</td>\n",
       "      <td>0.935246</td>\n",
       "      <td>1.073163</td>\n",
       "      <td>1.051202</td>\n",
       "    </tr>\n",
       "    <tr>\n",
       "      <th>$Re$</th>\n",
       "      <td>1.546295</td>\n",
       "      <td>1.109270</td>\n",
       "      <td>0.897094</td>\n",
       "      <td>0.559199</td>\n",
       "      <td>0.342270</td>\n",
       "      <td>0.173589</td>\n",
       "      <td>0.077384</td>\n",
       "      <td>0.026310</td>\n",
       "      <td>0.011579</td>\n",
       "    </tr>\n",
       "  </tbody>\n",
       "</table>\n",
       "</div>"
      ],
      "text/plain": [
       "                                          0         1         2         3  \\\n",
       "Kugeldurchmesser                   9.000000  8.000000  7.144000  6.000000   \n",
       "$\\frac{{\\bar{{v}}}}{{v_{{lam}}}}$  0.740240  0.774018  0.802880  0.844790   \n",
       "$Re$                               1.546295  1.109270  0.897094  0.559199   \n",
       "\n",
       "                                          4         5         6         7  \\\n",
       "Kugeldurchmesser                   5.000000  4.000000  3.000000  2.000000   \n",
       "$\\frac{{\\bar{{v}}}}{{v_{{lam}}}}$  0.893502  0.885075  0.935246  1.073163   \n",
       "$Re$                               0.342270  0.173589  0.077384  0.026310   \n",
       "\n",
       "                                          8  \n",
       "Kugeldurchmesser                   1.500000  \n",
       "$\\frac{{\\bar{{v}}}}{{v_{{lam}}}}$  1.051202  \n",
       "$Re$                               0.011579  "
      ]
     },
     "metadata": {},
     "output_type": "display_data"
    }
   ],
   "source": [
    "pt_re = pd.DataFrame(data=[data['Kugeldurchmesser'],\n",
    "                           pd.Series(h, name=r'$\\frac{{\\bar{{v}}}}{{v_{{lam}}}}$'),\n",
    "                           pd.Series(Rey, name='$Re$')\n",
    "                          ])\n",
    "display(pt_re)"
   ]
  }
 ],
 "metadata": {
  "kernelspec": {
   "display_name": "Python 3",
   "language": "python",
   "name": "python3"
  },
  "language_info": {
   "codemirror_mode": {
    "name": "ipython",
    "version": 3
   },
   "file_extension": ".py",
   "mimetype": "text/x-python",
   "name": "python",
   "nbconvert_exporter": "python",
   "pygments_lexer": "ipython3",
   "version": "3.5.1"
  }
 },
 "nbformat": 4,
 "nbformat_minor": 0
}
