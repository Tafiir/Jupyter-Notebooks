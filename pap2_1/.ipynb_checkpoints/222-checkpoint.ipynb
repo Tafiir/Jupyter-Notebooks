{
 "cells": [
  {
   "cell_type": "markdown",
   "metadata": {},
   "source": [
    "## Aufgabe 1"
   ]
  },
  {
   "cell_type": "code",
   "execution_count": 1,
   "metadata": {
    "collapsed": false
   },
   "outputs": [
    {
     "data": {
      "text/latex": [
       "$P = 29.92 \\pm 0.7 \\ $"
      ],
      "text/plain": [
       "<IPython.core.display.Latex object>"
      ]
     },
     "metadata": {},
     "output_type": "display_data"
    },
    {
     "data": {
      "text/latex": [
       "$W = (5.47 \\pm 0.13) J$"
      ],
      "text/plain": [
       "<IPython.core.display.Latex object>"
      ]
     },
     "metadata": {},
     "output_type": "display_data"
    }
   ],
   "source": [
    "I = 5*1.1\n",
    "dI = 0.1\n",
    "U = 5.44\n",
    "dU = 0.08\n",
    "f = 328/60\n",
    "df = 1/60\n",
    "valerr(\"P\" , U*I, sqrt((dU*I)**2 + (dI*U)**2).round(2))\n",
    "display(Latex(r\"$W = ({0:.2f} \\pm {1:.2f}) J$\".format(U*I/f, U*I/f*sqrt((dU/U)**2 + (dI/I)**2 + (df/f)**2))))"
   ]
  },
  {
   "cell_type": "code",
   "execution_count": 2,
   "metadata": {
    "collapsed": false
   },
   "outputs": [
    {
     "data": {
      "text/latex": [
       "$P = (55.80 \\pm 2.09) \\frac{J}{s}$"
      ],
      "text/plain": [
       "<IPython.core.display.Latex object>"
      ]
     },
     "metadata": {},
     "output_type": "display_data"
    },
    {
     "data": {
      "text/latex": [
       "$W = (10.21 \\pm 0.38) J$"
      ],
      "text/plain": [
       "<IPython.core.display.Latex object>"
      ]
     },
     "metadata": {},
     "output_type": "display_data"
    }
   ],
   "source": [
    "I = array([2.4,2.25]).mean()\n",
    "dI = sqrt(sum(array([0.06, 0.05])**2))\n",
    "U = 24\n",
    "dU = 0.4\n",
    "f = 328/60\n",
    "df = 1/60\n",
    "display(Latex(r\"$P = ({0:.2f} \\pm {1:.2f}) \\frac{{J}}{{s}}$\".format(U*I, sqrt((dU*I)**2 + (dI*U)**2))))\n",
    "display(Latex(r\"$W = ({0:.2f} \\pm {1:.2f}) J$\".format(U*I/f, U*I/f*sqrt((dU/U)**2 + (dI/I)**2 + (df/f)**2))))"
   ]
  },
  {
   "cell_type": "markdown",
   "metadata": {},
   "source": [
    "## Aufgabe 2"
   ]
  },
  {
   "cell_type": "code",
   "execution_count": 3,
   "metadata": {
    "collapsed": false
   },
   "outputs": [
    {
     "data": {
      "text/latex": [
       "$W = 335 J$"
      ],
      "text/plain": [
       "<IPython.core.display.Latex object>"
      ]
     },
     "metadata": {},
     "output_type": "display_data"
    },
    {
     "data": {
      "text/latex": [
       "$P = (1.675 \\pm 0.042) \\frac{J}{s}$"
      ],
      "text/plain": [
       "<IPython.core.display.Latex object>"
      ]
     },
     "metadata": {},
     "output_type": "display_data"
    }
   ],
   "source": [
    "t = 200\n",
    "dt = 5\n",
    "lh2o = 335\n",
    "display(Latex(r\"$W = {0:.0f} J$\".format(335)))\n",
    "display(Latex(r\"$P = ({0:.3f} \\pm {1:.3f}) \\frac{{J}}{{s}}$\".format(335/t, 335/t * dt/t)))"
   ]
  },
  {
   "cell_type": "markdown",
   "metadata": {},
   "source": [
    "## Aufgabe 3"
   ]
  },
  {
   "cell_type": "code",
   "execution_count": 4,
   "metadata": {
    "collapsed": true
   },
   "outputs": [],
   "source": [
    "f_ = array([330,323,327])/60\n",
    "df = 1/60\n",
    "\n"
   ]
  }
 ],
 "metadata": {
  "kernelspec": {
   "display_name": "Python 3",
   "language": "python",
   "name": "python3"
  },
  "language_info": {
   "codemirror_mode": {
    "name": "ipython",
    "version": 3
   },
   "file_extension": ".py",
   "mimetype": "text/x-python",
   "name": "python",
   "nbconvert_exporter": "python",
   "pygments_lexer": "ipython3",
   "version": "3.5.1"
  }
 },
 "nbformat": 4,
 "nbformat_minor": 0
}
