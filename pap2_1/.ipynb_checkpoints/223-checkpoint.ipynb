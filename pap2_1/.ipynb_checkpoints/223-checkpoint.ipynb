{
 "cells": [
  {
   "cell_type": "code",
   "execution_count": 26,
   "metadata": {
    "collapsed": false
   },
   "outputs": [
    {
     "data": {
      "text/latex": [
       "$a = 3.775e-07 \\pm 1.5e-08 $"
      ],
      "text/plain": [
       "<IPython.core.display.Latex object>"
      ]
     },
     "metadata": {},
     "output_type": "display_data"
    },
    {
     "data": {
      "text/latex": [
       "$T = 297.15 \\pm 0.5 $"
      ],
      "text/plain": [
       "<IPython.core.display.Latex object>"
      ]
     },
     "metadata": {},
     "output_type": "display_data"
    }
   ],
   "source": [
    "from scipy.constants import C2K\n",
    "n = 9.1e-4\n",
    "dn = 0.1e-4\n",
    "\n",
    "a = 755e-9/2\n",
    "da = 30e-9/2\n",
    "\n",
    "display(Latex(r\"$a = {0} \\pm {1} $\".format(a,da)))\n",
    "\n",
    "T = C2K(24.0)\n",
    "dT = 0.5\n",
    "\n",
    "display(Latex(r\"$T = {0} \\pm {1} $\".format(T,dT)))\n",
    "\n",
    "t = 1.011\n",
    "dt = 0.002"
   ]
  },
  {
   "cell_type": "markdown",
   "metadata": {},
   "source": [
    "## Aus Messwerten"
   ]
  },
  {
   "cell_type": "code",
   "execution_count": 24,
   "metadata": {
    "collapsed": false
   },
   "outputs": [
    {
     "data": {
      "text/latex": [
       "$D = (0.45 \\pm 0.05) \\cdot 10^{-12} $"
      ],
      "text/plain": [
       "<IPython.core.display.Latex object>"
      ]
     },
     "metadata": {},
     "output_type": "display_data"
    },
    {
     "data": {
      "text/latex": [
       "$k = (0.97 \\pm 0.11) \\cdot 10^{-23} $"
      ],
      "text/plain": [
       "<IPython.core.display.Latex object>"
      ]
     },
     "metadata": {},
     "output_type": "display_data"
    }
   ],
   "source": [
    "rsq = 1.8e-12\n",
    "drsq = 0.2e-12\n",
    "\n",
    "D = rsq/(4*t)\n",
    "dD = D * sqrt((drsq/rsq)**2 + (dt/t)**2)\n",
    "\n",
    "display(Latex(r\"$D = ({0:.2f} \\pm {1:.2f}) \\cdot 10^{{-12}} $\".format(D * 10**12, dD * 10**12)))\n",
    "\n",
    "k = D*6*pi*n*a/T * 10**23\n",
    "dk = k * sqrt((dD/D)**2 + (dn/n)**2 + (da/a)**2 + (dT/T)**2)\n",
    "\n",
    "display(Latex(r\"$k = ({0:.2f} \\pm {1:.2f}) \\cdot 10^{{-23}} $\".format(k, dk)))"
   ]
  },
  {
   "cell_type": "markdown",
   "metadata": {},
   "source": [
    "## Aus Histogramm"
   ]
  },
  {
   "cell_type": "code",
   "execution_count": 28,
   "metadata": {
    "collapsed": false
   },
   "outputs": [
    {
     "data": {
      "text/latex": [
       "$D = (0.53 \\pm 0.06) \\cdot 10^{-12} $"
      ],
      "text/plain": [
       "<IPython.core.display.Latex object>"
      ]
     },
     "metadata": {},
     "output_type": "display_data"
    },
    {
     "data": {
      "text/latex": [
       "$k = (1.17 \\pm 0.14) \\cdot 10^{-23} $"
      ],
      "text/plain": [
       "<IPython.core.display.Latex object>"
      ]
     },
     "metadata": {},
     "output_type": "display_data"
    }
   ],
   "source": [
    "rsq = (1.04e-6)**2\n",
    "drsq = 2*1.04e-6*0.06e-6\n",
    "\n",
    "D = rsq/(2*t)\n",
    "dD = D * sqrt((drsq/rsq)**2 + (dt/t)**2)\n",
    "\n",
    "display(Latex(r\"$D = ({0:.2f} \\pm {1:.2f}) \\cdot 10^{{-12}} $\".format(D * 10**12, dD * 10**12)))\n",
    "\n",
    "k = D*6*pi*n*a/T * 10**23\n",
    "dk = k * sqrt((dD/D)**2 + (dn/n)**2 + (da/a)**2 + (dT/T)**2)\n",
    "\n",
    "display(Latex(r\"$k = ({0:.2f} \\pm {1:.2f}) \\cdot 10^{{-23}} $\".format(k, dk)))"
   ]
  },
  {
   "cell_type": "markdown",
   "metadata": {},
   "source": [
    "## Aus Fitgeraden"
   ]
  },
  {
   "cell_type": "code",
   "execution_count": 30,
   "metadata": {
    "collapsed": false
   },
   "outputs": [
    {
     "data": {
      "text/latex": [
       "$D = (0.4588 \\pm 0.0020) \\cdot 10^{-12} $"
      ],
      "text/plain": [
       "<IPython.core.display.Latex object>"
      ]
     },
     "metadata": {},
     "output_type": "display_data"
    },
    {
     "data": {
      "text/latex": [
       "$k = (1.000 \\pm 0.041) \\cdot 10^{-23} $"
      ],
      "text/plain": [
       "<IPython.core.display.Latex object>"
      ]
     },
     "metadata": {},
     "output_type": "display_data"
    }
   ],
   "source": [
    "m = 1.835e-12\n",
    "dm = 0.008e-12\n",
    "\n",
    "D = m/4\n",
    "dD = dm/4\n",
    "\n",
    "display(Latex(r\"$D = ({0:.4f} \\pm {1:.4f}) \\cdot 10^{{-12}} $\".format(D * 10**12, dD * 10**12)))\n",
    "\n",
    "k = D*6*pi*n*a/T * 10**23\n",
    "dk = k * sqrt((dD/D)**2 + (dn/n)**2 + (da/a)**2 + (dT/T)**2)\n",
    "\n",
    "display(Latex(r\"$k = ({0:.3f} \\pm {1:.3f}) \\cdot 10^{{-23}} $\".format(k, dk)))"
   ]
  }
 ],
 "metadata": {
  "kernelspec": {
   "display_name": "Python 3",
   "language": "python",
   "name": "python3"
  },
  "language_info": {
   "codemirror_mode": {
    "name": "ipython",
    "version": 3
   },
   "file_extension": ".py",
   "mimetype": "text/x-python",
   "name": "python",
   "nbconvert_exporter": "python",
   "pygments_lexer": "ipython3",
   "version": "3.5.1"
  }
 },
 "nbformat": 4,
 "nbformat_minor": 0
}
