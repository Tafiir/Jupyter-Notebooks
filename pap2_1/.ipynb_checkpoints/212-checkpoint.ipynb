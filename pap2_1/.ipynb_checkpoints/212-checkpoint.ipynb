{
 "cells": [
  {
   "cell_type": "code",
   "execution_count": 66,
   "metadata": {
    "collapsed": false
   },
   "outputs": [
    {
     "data": {
      "text/html": [
       "<div>\n",
       "<table border=\"1\" class=\"dataframe\">\n",
       "  <thead>\n",
       "    <tr style=\"text-align: right;\">\n",
       "      <th></th>\n",
       "      <th>Kugeldurchmesser</th>\n",
       "      <th>Fallstrecke</th>\n",
       "      <th>Fallzeit 1</th>\n",
       "      <th>Fallzeit 2</th>\n",
       "      <th>Fallzeit 3</th>\n",
       "      <th>Fallzeit 4</th>\n",
       "      <th>Fallzeit 5</th>\n",
       "      <th>Dichte</th>\n",
       "    </tr>\n",
       "  </thead>\n",
       "  <tbody>\n",
       "    <tr>\n",
       "      <th>0</th>\n",
       "      <td>9.000</td>\n",
       "      <td>200</td>\n",
       "      <td>6.28</td>\n",
       "      <td>6.07</td>\n",
       "      <td>6.15</td>\n",
       "      <td>6.14</td>\n",
       "      <td>6.12</td>\n",
       "      <td>0.001362</td>\n",
       "    </tr>\n",
       "    <tr>\n",
       "      <th>1</th>\n",
       "      <td>8.000</td>\n",
       "      <td>200</td>\n",
       "      <td>7.82</td>\n",
       "      <td>7.58</td>\n",
       "      <td>7.50</td>\n",
       "      <td>7.72</td>\n",
       "      <td>7.50</td>\n",
       "      <td>0.001357</td>\n",
       "    </tr>\n",
       "    <tr>\n",
       "      <th>2</th>\n",
       "      <td>7.144</td>\n",
       "      <td>200</td>\n",
       "      <td>8.45</td>\n",
       "      <td>8.26</td>\n",
       "      <td>8.58</td>\n",
       "      <td>8.29</td>\n",
       "      <td>8.51</td>\n",
       "      <td>0.001378</td>\n",
       "    </tr>\n",
       "    <tr>\n",
       "      <th>3</th>\n",
       "      <td>6.000</td>\n",
       "      <td>200</td>\n",
       "      <td>11.39</td>\n",
       "      <td>11.39</td>\n",
       "      <td>11.32</td>\n",
       "      <td>11.21</td>\n",
       "      <td>11.39</td>\n",
       "      <td>0.001378</td>\n",
       "    </tr>\n",
       "    <tr>\n",
       "      <th>4</th>\n",
       "      <td>5.000</td>\n",
       "      <td>200</td>\n",
       "      <td>15.23</td>\n",
       "      <td>15.32</td>\n",
       "      <td>15.54</td>\n",
       "      <td>15.58</td>\n",
       "      <td>15.53</td>\n",
       "      <td>0.001378</td>\n",
       "    </tr>\n",
       "    <tr>\n",
       "      <th>5</th>\n",
       "      <td>4.000</td>\n",
       "      <td>100</td>\n",
       "      <td>12.32</td>\n",
       "      <td>12.00</td>\n",
       "      <td>12.06</td>\n",
       "      <td>12.36</td>\n",
       "      <td>12.15</td>\n",
       "      <td>0.001378</td>\n",
       "    </tr>\n",
       "    <tr>\n",
       "      <th>6</th>\n",
       "      <td>3.000</td>\n",
       "      <td>50</td>\n",
       "      <td>10.39</td>\n",
       "      <td>10.20</td>\n",
       "      <td>10.29</td>\n",
       "      <td>10.06</td>\n",
       "      <td>10.28</td>\n",
       "      <td>0.001378</td>\n",
       "    </tr>\n",
       "    <tr>\n",
       "      <th>7</th>\n",
       "      <td>2.000</td>\n",
       "      <td>50</td>\n",
       "      <td>20.39</td>\n",
       "      <td>20.51</td>\n",
       "      <td>20.51</td>\n",
       "      <td>19.73</td>\n",
       "      <td>19.34</td>\n",
       "      <td>0.001378</td>\n",
       "    </tr>\n",
       "    <tr>\n",
       "      <th>8</th>\n",
       "      <td>1.500</td>\n",
       "      <td>50</td>\n",
       "      <td>33.93</td>\n",
       "      <td>34.04</td>\n",
       "      <td>34.82</td>\n",
       "      <td>34.48</td>\n",
       "      <td>33.89</td>\n",
       "      <td>0.001392</td>\n",
       "    </tr>\n",
       "  </tbody>\n",
       "</table>\n",
       "</div>"
      ],
      "text/plain": [
       "   Kugeldurchmesser  Fallstrecke  Fallzeit 1  Fallzeit 2  Fallzeit 3  \\\n",
       "0             9.000          200        6.28        6.07        6.15   \n",
       "1             8.000          200        7.82        7.58        7.50   \n",
       "2             7.144          200        8.45        8.26        8.58   \n",
       "3             6.000          200       11.39       11.39       11.32   \n",
       "4             5.000          200       15.23       15.32       15.54   \n",
       "5             4.000          100       12.32       12.00       12.06   \n",
       "6             3.000           50       10.39       10.20       10.29   \n",
       "7             2.000           50       20.39       20.51       20.51   \n",
       "8             1.500           50       33.93       34.04       34.82   \n",
       "\n",
       "   Fallzeit 4  Fallzeit 5    Dichte  \n",
       "0        6.14        6.12  0.001362  \n",
       "1        7.72        7.50  0.001357  \n",
       "2        8.29        8.51  0.001378  \n",
       "3       11.21       11.39  0.001378  \n",
       "4       15.58       15.53  0.001378  \n",
       "5       12.36       12.15  0.001378  \n",
       "6       10.06       10.28  0.001378  \n",
       "7       19.73       19.34  0.001378  \n",
       "8       34.48       33.89  0.001392  "
      ]
     },
     "execution_count": 66,
     "metadata": {},
     "output_type": "execute_result"
    }
   ],
   "source": [
    "data = pd.read_csv('212_fallzeit.csv')\n",
    "data['Dichte'] += 0.0025 \n",
    "data['Dichte'] /= 1000\n",
    "data"
   ]
  },
  {
   "cell_type": "code",
   "execution_count": 87,
   "metadata": {
    "collapsed": false
   },
   "outputs": [
    {
     "data": {
      "text/plain": [
       "8688.4709877509849"
      ]
     },
     "execution_count": 87,
     "metadata": {},
     "output_type": "execute_result"
    }
   ],
   "source": [
    "v = pd.DataFrame([data.iloc[:,1]/i[1] for i in list(data.loc[:,'Fallzeit 1':'Fallzeit 5'].iteritems())]).transpose()\n",
    "vm = v.mean(axis=1)\n",
    "\n",
    "ds = data['Kugeldurchmesser']/2\n",
    "ds[6:] = ds[6:]*2\n",
    "\n",
    "dt = 0.2\n",
    "\n",
    "dv = sqrt(((dt/data.loc[:,'Fallzeit 1':'Fallzeit 5'])**2).add((ds/data['Fallstrecke'])**2, axis=0))\n",
    "dv.columns = v.columns\n",
    "dv *= v\n",
    "\n",
    "dvm = sqrt((dv**2).sum(axis=1))/sqrt(5)\n",
    "\n",
    "r_f = 1.1466/1000\n",
    "dr_f = 0.0002/1000\n",
    "\n",
    "dr_k = 0.0025/1000\n",
    "\n",
    "vs,r_fs,r_ks = sm.symbols('v \\\\rho_f \\\\rho_k')\n",
    "dvs,dr_fs,dr_ks = sm.symbols('dv d\\\\rho_f d\\\\rho_k')\n",
    "f = vs/(r_ks - r_fs)\n",
    "\n",
    "import fehler\n",
    "f_abs, f_rel = fehler.fehler(f, vs, r_fs, r_ks)\n",
    "\n",
    "y = array([f.subs([(vs, vm[i]), (r_fs, r_f), (r_ks, data['Dichte'][i])]) for i in range(9)], dtype=float)\n",
    "dy = array([f_abs.subs([(vs, vm[i]), (r_fs, r_f), (r_ks, data['Dichte'][i]), (dvs, dvm[i]), (dr_fs, dr_f), (dr_ks, dr_k)]) for i in range(9)], dtype=float)\n",
    "\n",
    "rsq = (data['Kugeldurchmesser']/2)**2\n",
    "\n",
    "import scipy.optimize as o\n",
    "g = lambda x, m: m*x\n",
    "m = o.curve_fit(g, rsq, y, sigma=dy)\n",
    "m = m[0][0]\n",
    "m"
   ]
  },
  {
   "cell_type": "code",
   "execution_count": 93,
   "metadata": {
    "collapsed": false
   },
   "outputs": [
    {
     "data": {
      "image/png": "[encoded data removed]",
      "text/plain": [
       "<matplotlib.figure.Figure at 0xacc21eb8d0>"
      ]
     },
     "metadata": {},
     "output_type": "display_data"
    }
   ],
   "source": [
    "figure(figsize=(10,6), dpi=512)\n",
    "errorbar(rsq, y, yerr=dy, fmt='s', markersize=2.0, label='Messpunkte ohne Korrektur')\n",
    "xlim(0, 25)\n",
    "ylim(0, 160000)\n",
    "xlabel(r'$r^2$', fontsize=18)\n",
    "ylabel(r'$\\frac{{\\bar{{v}}}}{{\\rho_k-\\rho_f}} $', fontsize=18)\n",
    "plot(arange(0,25,0.1), g(arange(0,25,0.1), m), 'r-', label='Gefittete Geraden')\n",
    "grid()\n",
    "legend(loc=4)\n",
    "show()"
   ]
  },
  {
   "cell_type": "code",
   "execution_count": null,
   "metadata": {
    "collapsed": true
   },
   "outputs": [],
   "source": []
  }
 ],
 "metadata": {
  "kernelspec": {
   "display_name": "Python 3",
   "language": "python",
   "name": "python3"
  },
  "language_info": {
   "codemirror_mode": {
    "name": "ipython",
    "version": 3
   },
   "file_extension": ".py",
   "mimetype": "text/x-python",
   "name": "python",
   "nbconvert_exporter": "python",
   "pygments_lexer": "ipython3",
   "version": "3.5.1"
  }
 },
 "nbformat": 4,
 "nbformat_minor": 0
}
